{
 "cells": [
  {
   "attachments": {},
   "cell_type": "markdown",
   "metadata": {},
   "source": [
    "# Title\n",
    "[]()"
   ]
  },
  {
   "cell_type": "code",
   "execution_count": 3,
   "metadata": {},
   "outputs": [],
   "source": [
    "\n",
    "import sys\n",
    "sys.path.append(r\"C:\\Users\\silvh\\OneDrive\\lighthouse\\custom_python\")\n",
    "sys.path.append(r'C:\\Users\\silvh\\OneDrive\\lighthouse\\portfolio-projects\\AI-content\\src')\n",
    "# sys.path.append(r'C:\\Users\\silvh\\OneDrive\\lighthouse\\portfolio-projects\\GHL-chat\\src\\app')\n",
    "from silvhua import *\n",
    "from gpt_vision import *\n",
    "# from datetime import datetime\n",
    "# sys.path.append(r\"C:\\Users\\silvh\\OneDrive\\lighthouse\\portfolio-projects\\online-PT-social-media-NLP\\src\")"
   ]
  },
  {
   "cell_type": "markdown",
   "metadata": {},
   "source": [
    "# Available models"
   ]
  },
  {
   "cell_type": "markdown",
   "metadata": {},
   "source": [
    "## `Silvia Hua` organization"
   ]
  },
  {
   "cell_type": "code",
   "execution_count": 2,
   "metadata": {},
   "outputs": [
    {
     "name": "stdout",
     "output_type": "stream",
     "text": [
      "gpt-3.5-turbo-0125\n",
      "gpt-3.5-turbo-16k-0613\n",
      "gpt-3.5-turbo-16k\n",
      "gpt-3.5-turbo\n",
      "gpt-3.5-turbo-0613\n",
      "gpt-3.5-turbo-1106\n",
      "gpt-3.5-turbo-0301\n",
      "gpt-3.5-turbo-instruct\n",
      "gpt-3.5-turbo-instruct-0914\n"
     ]
    },
    {
     "data": {
      "text/plain": [
       "[Model(id='gpt-3.5-turbo-0125', created=1706048358, object='model', owned_by='system'),\n",
       " Model(id='gpt-3.5-turbo-16k-0613', created=1685474247, object='model', owned_by='openai'),\n",
       " Model(id='gpt-3.5-turbo-16k', created=1683758102, object='model', owned_by='openai-internal'),\n",
       " Model(id='gpt-3.5-turbo', created=1677610602, object='model', owned_by='openai'),\n",
       " Model(id='gpt-3.5-turbo-0613', created=1686587434, object='model', owned_by='openai'),\n",
       " Model(id='gpt-3.5-turbo-1106', created=1698959748, object='model', owned_by='system'),\n",
       " Model(id='gpt-3.5-turbo-0301', created=1677649963, object='model', owned_by='openai'),\n",
       " Model(id='gpt-3.5-turbo-instruct', created=1692901427, object='model', owned_by='system'),\n",
       " Model(id='gpt-3.5-turbo-instruct-0914', created=1694122472, object='model', owned_by='system')]"
      ]
     },
     "execution_count": 2,
     "metadata": {},
     "output_type": "execute_result"
    }
   ],
   "source": [
    "models = openai_models()\n",
    "models"
   ]
  },
  {
   "cell_type": "markdown",
   "metadata": {},
   "source": [
    "## `Projects` organization"
   ]
  },
  {
   "cell_type": "code",
   "execution_count": 4,
   "metadata": {},
   "outputs": [
    {
     "name": "stdout",
     "output_type": "stream",
     "text": [
      "gpt-3.5-turbo-0125\n",
      "gpt-3.5-turbo-16k-0613\n",
      "gpt-3.5-turbo-16k\n",
      "gpt-3.5-turbo\n",
      "gpt-4\n",
      "gpt-4-0613\n",
      "gpt-4-vision-preview\n",
      "gpt-3.5-turbo-0613\n",
      "gpt-3.5-turbo-1106\n",
      "gpt-4-0125-preview\n",
      "gpt-4-turbo-preview\n",
      "gpt-3.5-turbo-0301\n",
      "gpt-3.5-turbo-instruct\n",
      "gpt-4-1106-preview\n",
      "gpt-3.5-turbo-instruct-0914\n"
     ]
    },
    {
     "data": {
      "text/plain": [
       "[Model(id='gpt-3.5-turbo-0125', created=1706048358, object='model', owned_by='system'),\n",
       " Model(id='gpt-3.5-turbo-16k-0613', created=1685474247, object='model', owned_by='openai'),\n",
       " Model(id='gpt-3.5-turbo-16k', created=1683758102, object='model', owned_by='openai-internal'),\n",
       " Model(id='gpt-3.5-turbo', created=1677610602, object='model', owned_by='openai'),\n",
       " Model(id='gpt-4', created=1687882411, object='model', owned_by='openai'),\n",
       " Model(id='gpt-4-0613', created=1686588896, object='model', owned_by='openai'),\n",
       " Model(id='gpt-4-vision-preview', created=1698894917, object='model', owned_by='system'),\n",
       " Model(id='gpt-3.5-turbo-0613', created=1686587434, object='model', owned_by='openai'),\n",
       " Model(id='gpt-3.5-turbo-1106', created=1698959748, object='model', owned_by='system'),\n",
       " Model(id='gpt-4-0125-preview', created=1706037612, object='model', owned_by='system'),\n",
       " Model(id='gpt-4-turbo-preview', created=1706037777, object='model', owned_by='system'),\n",
       " Model(id='gpt-3.5-turbo-0301', created=1677649963, object='model', owned_by='openai'),\n",
       " Model(id='gpt-3.5-turbo-instruct', created=1692901427, object='model', owned_by='system'),\n",
       " Model(id='gpt-4-1106-preview', created=1698957206, object='model', owned_by='system'),\n",
       " Model(id='gpt-3.5-turbo-instruct-0914', created=1694122472, object='model', owned_by='system')]"
      ]
     },
     "execution_count": 4,
     "metadata": {},
     "output_type": "execute_result"
    }
   ],
   "source": [
    "models = openai_models()\n",
    "models"
   ]
  },
  {
   "cell_type": "markdown",
   "metadata": {},
   "source": [
    "# initialize dictionaries"
   ]
  },
  {
   "cell_type": "code",
   "execution_count": 5,
   "metadata": {},
   "outputs": [],
   "source": [
    "response = dict()\n",
    "history_dict = dict()"
   ]
  },
  {
   "cell_type": "markdown",
   "metadata": {},
   "source": [
    "# Iteration 1"
   ]
  },
  {
   "cell_type": "code",
   "execution_count": 6,
   "metadata": {},
   "outputs": [
    {
     "name": "stdout",
     "output_type": "stream",
     "text": [
      "Image input.\n",
      "Sending request to Open AI...\n",
      "Request completed.\n",
      "Time completed: 2024-02-06 15:23:53.415442\n"
     ]
    },
    {
     "data": {
      "text/plain": [
       "'messages'"
      ]
     },
     "metadata": {},
     "output_type": "display_data"
    },
    {
     "name": "stdout",
     "output_type": "stream",
     "text": [
      "\n"
     ]
    },
    {
     "data": {
      "text/plain": [
       "'response_MD'"
      ]
     },
     "metadata": {},
     "output_type": "display_data"
    },
    {
     "name": "stdout",
     "output_type": "stream",
     "text": [
      "\n"
     ]
    }
   ],
   "source": [
    "model = 'gpt-4-vision-preview'\n",
    "image_url = 'https://miro.medium.com/v2/resize:fit:1100/format:webp/1*K2x_m7a-rToMHEw3WSFYrw.png'\n",
    "user_input = \"\"\"\n",
    "Evaluate the push up form.\n",
    "\"\"\"\n",
    "iteration = 1\n",
    "response[iteration] = generate_completion(\n",
    "    image_url, history_dict, user_input=user_input, model=model, n_choices=2)\n",
    "\n"
   ]
  },
  {
   "cell_type": "code",
   "execution_count": 11,
   "metadata": {},
   "outputs": [
    {
     "data": {
      "text/plain": [
       "{'messages': [[{'content': \"I can provide some pointers on push-up form based on the image:\\n\\n1. Body Alignment: The person's body is nearly in a straight line from head to heels, which is generally good for maintaining proper form. However, it's important that the hips do not sag or pike up too much, as this can put unnecessary strain on the lower back and alter the mechanics of the push-up.\\n\\n2. Elbow Position: The elbows appear to be flaring out to the sides. For a standard push-up, it's often recommended to keep the elbows closer to the body at about a 45-degree angle from the torso. This can help reduce stress on the shoulder joints and better target the chest, shoulders, and triceps.\\n\\n3. Hand Placement: The person's hands are positioned in line with their shoulders, which is good. The hands should be flat on the floor, and fingers spread to distribute weight evenly.\\n\\n4. Depth: The individual is going deep into the push-up, bringing the chest close to the floor. This is beneficial for maximizing the range of motion and engaging the chest muscles more effectively.\\n\\n5. Head Position: The head position is neutral, in line with the spine, which is correct. It's important not to let the head droop down or crane the neck upwards during the movement.\\n\\n6. Core Engagement: It's not visible from this angle, but the core should be engaged to maintain proper body alignment throughout the exercise.\\n\\nRemember, it's important to\",\n",
       "    'role': 'assistant',\n",
       "    'function_call': None,\n",
       "    'tool_calls': None},\n",
       "   {'content': \"In evaluating the push-up form shown in the image, there are a few key points to consider:\\n\\n1. Body Position: Ideally, the body should form a straight line from the head to the heels during a push-up. In the image, the person's hips appear to be slightly sagging towards the floor, which could indicate a need for stronger core engagement to maintain proper alignment.\\n\\n2. Hand Placement: The hands seem to be placed directly under the shoulders, which is generally recommended for a standard push-up. However, the exact optimal hand placement can vary depending on individual body mechanics and the specific muscles one aims to target.\\n\\n3. Elbow Position: The elbows are close to the body, which can be beneficial for engaging the triceps and reducing strain on the shoulder joint. This contrasts with a wider elbow placement, which emphasizes the chest muscles more.\\n\\n4. Depth of Movement: The person has lowered their body close to the floor, which is good for maximizing the range of motion in the push-up. Achieving a full range of motion can help work the muscles more effectively.\\n\\n5. Head and Neck Alignment: It's difficult to see the alignment of the head and neck from this angle, but ideally, the neck should be neutral, with the gaze directed slightly ahead rather than straight down to maintain spinal alignment.\\n\\nOverall, the push-up form looks decent with a few areas that could potentially be improved, such as ensuring the hips and back are in a straight line to engage the core muscles\",\n",
       "    'role': 'assistant',\n",
       "    'function_call': None,\n",
       "    'tool_calls': None}]],\n",
       " 'response_MD': [[<IPython.core.display.Markdown object>,\n",
       "   <IPython.core.display.Markdown object>]]}"
      ]
     },
     "execution_count": 11,
     "metadata": {},
     "output_type": "execute_result"
    }
   ],
   "source": [
    "history_dict"
   ]
  },
  {
   "cell_type": "code",
   "execution_count": 14,
   "metadata": {},
   "outputs": [
    {
     "data": {
      "text/markdown": [
       "I can provide some pointers on push-up form based on the image:\n",
       "\n",
       "1. Body Alignment: The person's body is nearly in a straight line from head to heels, which is generally good for maintaining proper form. However, it's important that the hips do not sag or pike up too much, as this can put unnecessary strain on the lower back and alter the mechanics of the push-up.\n",
       "\n",
       "2. Elbow Position: The elbows appear to be flaring out to the sides. For a standard push-up, it's often recommended to keep the elbows closer to the body at about a 45-degree angle from the torso. This can help reduce stress on the shoulder joints and better target the chest, shoulders, and triceps.\n",
       "\n",
       "3. Hand Placement: The person's hands are positioned in line with their shoulders, which is good. The hands should be flat on the floor, and fingers spread to distribute weight evenly.\n",
       "\n",
       "4. Depth: The individual is going deep into the push-up, bringing the chest close to the floor. This is beneficial for maximizing the range of motion and engaging the chest muscles more effectively.\n",
       "\n",
       "5. Head Position: The head position is neutral, in line with the spine, which is correct. It's important not to let the head droop down or crane the neck upwards during the movement.\n",
       "\n",
       "6. Core Engagement: It's not visible from this angle, but the core should be engaged to maintain proper body alignment throughout the exercise.\n",
       "\n",
       "Remember, it's important to"
      ],
      "text/plain": [
       "<IPython.core.display.Markdown object>"
      ]
     },
     "metadata": {},
     "output_type": "display_data"
    },
    {
     "name": "stdout",
     "output_type": "stream",
     "text": [
      "\n"
     ]
    },
    {
     "data": {
      "text/markdown": [
       "In evaluating the push-up form shown in the image, there are a few key points to consider:\n",
       "\n",
       "1. Body Position: Ideally, the body should form a straight line from the head to the heels during a push-up. In the image, the person's hips appear to be slightly sagging towards the floor, which could indicate a need for stronger core engagement to maintain proper alignment.\n",
       "\n",
       "2. Hand Placement: The hands seem to be placed directly under the shoulders, which is generally recommended for a standard push-up. However, the exact optimal hand placement can vary depending on individual body mechanics and the specific muscles one aims to target.\n",
       "\n",
       "3. Elbow Position: The elbows are close to the body, which can be beneficial for engaging the triceps and reducing strain on the shoulder joint. This contrasts with a wider elbow placement, which emphasizes the chest muscles more.\n",
       "\n",
       "4. Depth of Movement: The person has lowered their body close to the floor, which is good for maximizing the range of motion in the push-up. Achieving a full range of motion can help work the muscles more effectively.\n",
       "\n",
       "5. Head and Neck Alignment: It's difficult to see the alignment of the head and neck from this angle, but ideally, the neck should be neutral, with the gaze directed slightly ahead rather than straight down to maintain spinal alignment.\n",
       "\n",
       "Overall, the push-up form looks decent with a few areas that could potentially be improved, such as ensuring the hips and back are in a straight line to engage the core muscles"
      ],
      "text/plain": [
       "<IPython.core.display.Markdown object>"
      ]
     },
     "metadata": {},
     "output_type": "display_data"
    },
    {
     "name": "stdout",
     "output_type": "stream",
     "text": [
      "\n"
     ]
    }
   ],
   "source": [
    "for response in history_dict['response_MD'][0]:\n",
    "    display(response)\n",
    "    print('')"
   ]
  },
  {
   "cell_type": "markdown",
   "metadata": {},
   "source": [
    "## 1.1"
   ]
  },
  {
   "cell_type": "code",
   "execution_count": 15,
   "metadata": {},
   "outputs": [],
   "source": [
    "response_dict = dict()"
   ]
  },
  {
   "cell_type": "code",
   "execution_count": 16,
   "metadata": {},
   "outputs": [
    {
     "name": "stdout",
     "output_type": "stream",
     "text": [
      "Image input.\n",
      "Sending request to Open AI...\n",
      "Request completed.\n",
      "Time completed: 2024-02-06 15:36:50.413440\n"
     ]
    }
   ],
   "source": [
    "model = 'gpt-4-vision-preview'\n",
    "image_url = 'https://miro.medium.com/v2/resize:fit:1100/format:webp/1*K2x_m7a-rToMHEw3WSFYrw.png'\n",
    "user_input = \"\"\"\n",
    "Evaluate the push up form.\n",
    "\"\"\"\n",
    "iteration = 1.1\n",
    "response_dict[iteration] = generate_completion(\n",
    "    image_url, history_dict, user_input=user_input, model=model, n_choices=1)\n",
    "\n"
   ]
  },
  {
   "cell_type": "code",
   "execution_count": 17,
   "metadata": {},
   "outputs": [
    {
     "data": {
      "text/plain": [
       "{'messages': [ChatCompletionMessage(content=\"The person in the image appears to be at the bottom position of a push-up. Here are some points to consider when evaluating push-up form:\\n\\n1. Body Alignment: Ideally, the body should form a straight line from the head to the heels. In this image, it's difficult to assess the full body alignment due to the angle, but it seems the individual's hips are slightly raised, which could indicate a need for core engagement to maintain a plank-like position.\\n\\n2. Elbow Position: The elbows should be positioned at about a 45-degree angle from the body. In the image, the elbows appear to be flaring out to the sides, which is a common issue. This can put unnecessary stress on the shoulders and reduce the effectiveness of the exercise for targeting the chest and triceps.\\n\\n3. Hand Placement: Hands should be placed directly under the shoulders. It's hard to tell from this angle if the hands are correctly positioned, but they seem to be appropriately spaced.\\n\\n4. Depth: The chest should come close to or lightly touch the ground to achieve full range of motion. The person in the image has descended to a good depth, which is beneficial for muscle development.\\n\\n5. Head Position: The head should be in a neutral position, aligned with the spine. The individual's head position looks neutral, which is good.\\n\\n6. Core Engagement: The core should be tight and engaged to prevent the hips from sagging or piking up. As mentioned earlier, there might\", role='assistant', function_call=None, tool_calls=None)],\n",
       " 'response_MD': [<IPython.core.display.Markdown object>]}"
      ]
     },
     "execution_count": 17,
     "metadata": {},
     "output_type": "execute_result"
    }
   ],
   "source": [
    "response_dict[iteration]"
   ]
  },
  {
   "cell_type": "code",
   "execution_count": 23,
   "metadata": {},
   "outputs": [
    {
     "data": {
      "text/markdown": [
       "The person in the image appears to be at the bottom position of a push-up. Here are some points to consider when evaluating push-up form:\n",
       "\n",
       "1. Body Alignment: Ideally, the body should form a straight line from the head to the heels. In this image, it's difficult to assess the full body alignment due to the angle, but it seems the individual's hips are slightly raised, which could indicate a need for core engagement to maintain a plank-like position.\n",
       "\n",
       "2. Elbow Position: The elbows should be positioned at about a 45-degree angle from the body. In the image, the elbows appear to be flaring out to the sides, which is a common issue. This can put unnecessary stress on the shoulders and reduce the effectiveness of the exercise for targeting the chest and triceps.\n",
       "\n",
       "3. Hand Placement: Hands should be placed directly under the shoulders. It's hard to tell from this angle if the hands are correctly positioned, but they seem to be appropriately spaced.\n",
       "\n",
       "4. Depth: The chest should come close to or lightly touch the ground to achieve full range of motion. The person in the image has descended to a good depth, which is beneficial for muscle development.\n",
       "\n",
       "5. Head Position: The head should be in a neutral position, aligned with the spine. The individual's head position looks neutral, which is good.\n",
       "\n",
       "6. Core Engagement: The core should be tight and engaged to prevent the hips from sagging or piking up. As mentioned earlier, there might"
      ],
      "text/plain": [
       "<IPython.core.display.Markdown object>"
      ]
     },
     "metadata": {},
     "output_type": "display_data"
    }
   ],
   "source": [
    "display(history_dict['response_MD'][0])"
   ]
  },
  {
   "cell_type": "markdown",
   "metadata": {},
   "source": [
    "## 1.2"
   ]
  },
  {
   "cell_type": "code",
   "execution_count": 24,
   "metadata": {},
   "outputs": [
    {
     "name": "stdout",
     "output_type": "stream",
     "text": [
      "Image input.\n",
      "Sending request to Open AI...\n",
      "Request completed.\n",
      "Time completed: 2024-02-06 15:39:46.204154\n"
     ]
    }
   ],
   "source": [
    "model = 'gpt-4-vision-preview'\n",
    "image_url = 'https://miro.medium.com/v2/resize:fit:1100/format:webp/1*K2x_m7a-rToMHEw3WSFYrw.png'\n",
    "user_input = \"\"\"\n",
    "Evaluate the push up form.\n",
    "\"\"\"\n",
    "iteration = 1.2\n",
    "response_dict[iteration] = generate_completion(\n",
    "    image_url, history_dict, max_tokens=1000, user_input=user_input, model=model, n_choices=1)\n",
    "\n"
   ]
  },
  {
   "cell_type": "code",
   "execution_count": 25,
   "metadata": {},
   "outputs": [
    {
     "data": {
      "text/markdown": [
       "The person in the image is performing a push-up. Here are some observations regarding their form:\n",
       "\n",
       "1. Body Position: The body appears to be in a straight line from the head to the heels, which is good. This alignment suggests that the core is engaged, which is important for a proper push-up.\n",
       "\n",
       "2. Elbow Position: The elbows are close to the body, which is generally recommended for a standard push-up as it can be easier on the shoulders and also targets the triceps more effectively.\n",
       "\n",
       "3. Hand Position: The hands are placed directly under the shoulders, which is good for stability and proper muscle engagement.\n",
       "\n",
       "4. Depth: The person has lowered their body close to the floor, which indicates a full range of motion. This is beneficial for working the chest, shoulders, and triceps effectively.\n",
       "\n",
       "5. Head Position: The head appears to be in a neutral position, aligned with the spine, which is good. It's important to avoid letting the head droop down or crane upwards during a push-up.\n",
       "\n",
       "Overall, the form looks quite good based on this single snapshot. However, it's important to maintain this form consistently throughout each repetition to maximize the benefits of the exercise and minimize the risk of injury."
      ],
      "text/plain": [
       "<IPython.core.display.Markdown object>"
      ]
     },
     "metadata": {},
     "output_type": "display_data"
    }
   ],
   "source": [
    "display(history_dict['response_MD'][0])"
   ]
  },
  {
   "cell_type": "markdown",
   "metadata": {},
   "source": [
    "## 1.21"
   ]
  },
  {
   "cell_type": "code",
   "execution_count": 27,
   "metadata": {},
   "outputs": [
    {
     "name": "stdout",
     "output_type": "stream",
     "text": [
      "Image input.\n",
      "Sending request to Open AI...\n",
      "Request completed.\n",
      "Time completed: 2024-02-06 15:42:25.496475\n"
     ]
    },
    {
     "data": {
      "text/markdown": [
       "In this image, the person is performing a push-up. To evaluate the form, we should look at several key points:\n",
       "\n",
       "1. Body Alignment: Ideally, the body should form a straight line from the head to the heels. In this image, the person's hips appear to be slightly sagging, which could indicate a need for stronger core engagement to maintain proper alignment.\n",
       "\n",
       "2. Elbow Position: The elbows should be at a 45-degree angle to the body. Here, the elbows seem to be flaring out a bit wide, which can put unnecessary stress on the shoulders.\n",
       "\n",
       "3. Hand Position: The hands should be placed directly under the shoulders. It's hard to tell from this angle, but if the hands are too far forward or backward, it can affect the effectiveness of the exercise and potentially cause strain.\n",
       "\n",
       "4. Depth of Movement: The chest should come close to the ground to ensure a full range of motion. The person in the image is doing well in this aspect, as they are quite low to the ground.\n",
       "\n",
       "5. Head Position: The head should be in a neutral position, in line with the spine. The person's head position seems to be neutral and not drooping or overly extended, which is good.\n",
       "\n",
       "Overall, the person may need to adjust their form slightly by engaging their core more to prevent the hips from sagging and by bringing their elbows closer to their body to protect their shoulders. However, without a side view, it's difficult to provide a comprehensive assessment."
      ],
      "text/plain": [
       "<IPython.core.display.Markdown object>"
      ]
     },
     "metadata": {},
     "output_type": "display_data"
    }
   ],
   "source": [
    "model = 'gpt-4-vision-preview'\n",
    "image_url = 'https://miro.medium.com/v2/resize:fit:1100/format:webp/1*K2x_m7a-rToMHEw3WSFYrw.png'\n",
    "user_input = \"\"\"\n",
    "Evaluate the push up form.\n",
    "\"\"\"\n",
    "iteration = 1.21\n",
    "response_dict[iteration] = generate_completion(\n",
    "    image_url, history_dict, max_tokens=1000, user_input=user_input, \n",
    "    model=model, n_choices=1)\n",
    "display(history_dict['response_MD'][0])\n"
   ]
  },
  {
   "cell_type": "markdown",
   "metadata": {},
   "source": [
    "## 1.3"
   ]
  },
  {
   "cell_type": "code",
   "execution_count": null,
   "metadata": {},
   "outputs": [],
   "source": [
    "model = 'gpt-4-vision-preview'\n",
    "image_url = 'https://miro.medium.com/v2/resize:fit:1100/format:webp/1*K2x_m7a-rToMHEw3WSFYrw.png'\n",
    "user_input = \"\"\"\n",
    "Evaluate the push up form.\n",
    "\"\"\"\n",
    "iteration = 1.3\n",
    "response_dict[iteration] = generate_completion(\n",
    "    image_url, history_dict, max_tokens=1000, temperature=2,\n",
    "    user_input=user_input, model=model, n_choices=1)\n",
    "display(history_dict['response_MD'][0])\n"
   ]
  },
  {
   "cell_type": "code",
   "execution_count": null,
   "metadata": {},
   "outputs": [],
   "source": []
  },
  {
   "cell_type": "code",
   "execution_count": null,
   "metadata": {},
   "outputs": [],
   "source": []
  },
  {
   "cell_type": "code",
   "execution_count": null,
   "metadata": {},
   "outputs": [],
   "source": []
  },
  {
   "cell_type": "code",
   "execution_count": null,
   "metadata": {},
   "outputs": [],
   "source": []
  },
  {
   "cell_type": "code",
   "execution_count": null,
   "metadata": {},
   "outputs": [],
   "source": []
  },
  {
   "cell_type": "code",
   "execution_count": null,
   "metadata": {},
   "outputs": [],
   "source": []
  },
  {
   "cell_type": "code",
   "execution_count": null,
   "metadata": {},
   "outputs": [],
   "source": []
  },
  {
   "cell_type": "code",
   "execution_count": null,
   "metadata": {},
   "outputs": [],
   "source": []
  },
  {
   "cell_type": "code",
   "execution_count": null,
   "metadata": {},
   "outputs": [],
   "source": []
  },
  {
   "cell_type": "code",
   "execution_count": null,
   "metadata": {},
   "outputs": [],
   "source": []
  },
  {
   "cell_type": "code",
   "execution_count": null,
   "metadata": {},
   "outputs": [],
   "source": []
  },
  {
   "cell_type": "code",
   "execution_count": null,
   "metadata": {},
   "outputs": [],
   "source": []
  },
  {
   "cell_type": "code",
   "execution_count": null,
   "metadata": {},
   "outputs": [],
   "source": []
  },
  {
   "cell_type": "code",
   "execution_count": null,
   "metadata": {},
   "outputs": [],
   "source": []
  },
  {
   "attachments": {},
   "cell_type": "markdown",
   "metadata": {},
   "source": [
    "# *End of Page*"
   ]
  }
 ],
 "metadata": {
  "kernelspec": {
   "display_name": "Python 3.9.13 64-bit",
   "language": "python",
   "name": "python3"
  },
  "language_info": {
   "codemirror_mode": {
    "name": "ipython",
    "version": 3
   },
   "file_extension": ".py",
   "mimetype": "text/x-python",
   "name": "python",
   "nbconvert_exporter": "python",
   "pygments_lexer": "ipython3",
   "version": "0.0.0"
  },
  "orig_nbformat": 4,
  "vscode": {
   "interpreter": {
    "hash": "11938c6bc6919ae2720b4d5011047913343b08a43b18698fd82dedb0d4417594"
   }
  }
 },
 "nbformat": 4,
 "nbformat_minor": 2
}
