{
 "cells": [
  {
   "cell_type": "markdown",
   "metadata": {},
   "source": [
    "# Title\n",
    "[]()"
   ]
  },
  {
   "cell_type": "code",
   "execution_count": 4,
   "metadata": {},
   "outputs": [],
   "source": [
    "# from functools import wraps\n",
    "import sys\n",
    "sys.path.append(r\"C:\\Users\\silvh\\OneDrive\\lighthouse\\Ginkgo coding\\content-summarization\\private\")\n",
    "sys.path.append(r\"C:\\Users\\silvh\\OneDrive\\lighthouse\\Ginkgo coding\\content-summarization\\src\")\n",
    "# sys.path.append(r\"C:\\Users\\silvh\\OneDrive\\lighthouse\\custom_python\")\n",
    "from summary_chain import openai_models\n",
    "import os\n",
    "api_key = os.environ['api_key_openai']\n"
   ]
  },
  {
   "cell_type": "markdown",
   "metadata": {},
   "source": [
    "# Previous `chat_completion` function from (C:\\Users\\silvh\\OneDrive\\lighthouse\\portfolio-projects\\online-PT-social-media-NLP\\notebooks\\2023-04-03 ChatGPT API.ipynb)"
   ]
  },
  {
   "cell_type": "code",
   "execution_count": null,
   "metadata": {},
   "outputs": [
    {
     "name": "stdout",
     "output_type": "stream",
     "text": [
      "Time completed: 2023-03-21 22:56:54.107364\n"
     ]
    },
    {
     "data": {
      "text/markdown": [
       "Eileen Regina Edwards"
      ],
      "text/plain": [
       "<IPython.core.display.Markdown object>"
      ]
     },
     "metadata": {},
     "output_type": "display_data"
    }
   ],
   "source": [
    "import openai\n",
    "import json\n",
    "import IPython\n",
    "from datetime import datetime\n",
    "def generate_completion(prompt, history, temperature=0.0, model=\"text-davinci-002\"):\n",
    "    max_tokens= int(4096 - len(prompt)/4)\n",
    "    response = openai.Completion.create(\n",
    "        model=model,\n",
    "        prompt=prompt,\n",
    "        max_tokens=max_tokens,\n",
    "        temperature=temperature,\n",
    "        n=1,\n",
    "        stop=None,\n",
    "        frequency_penalty=0,\n",
    "        presence_penalty=0\n",
    "    )\n",
    "\n",
    "    if response.choices[0].text:\n",
    "        print('Time completed:', datetime.now())\n",
    "        response_string = response.choices[0].text.strip()\n",
    "        try:\n",
    "            history['prompt'].append(prompt)\n",
    "            history['response_text'].append(response_string)\n",
    "            history['response'].append(response)\n",
    "            history['response_MD'].append(IPython.display.Markdown(response_string))\n",
    "        except:\n",
    "            history['prompt'] = [prompt]\n",
    "            history['response_text'] = [response_string]\n",
    "            history['response'] = [response]\n",
    "            history['response_MD'] = [IPython.display.Markdown(response_string)]\n",
    "        return history\n",
    "    else:\n",
    "        return response\n",
    "\n",
    "\n",
    "prompt = \"What is Shania Twain's birth name?\"\n",
    "history2 = generate_completion(prompt, dict())\n",
    "history2['response_MD'][0]\n"
   ]
  },
  {
   "cell_type": "markdown",
   "metadata": {},
   "source": []
  },
  {
   "cell_type": "code",
   "execution_count": 7,
   "metadata": {},
   "outputs": [
    {
     "name": "stdout",
     "output_type": "stream",
     "text": [
      "gpt-3.5-turbo-16k-0613\n",
      "gpt-3.5-turbo-16k\n",
      "gpt-4-1106-preview\n",
      "gpt-4\n",
      "gpt-4-vision-preview\n",
      "gpt-3.5-turbo-1106\n",
      "gpt-3.5-turbo\n",
      "gpt-3.5-turbo-instruct-0914\n",
      "gpt-3.5-turbo-0301\n",
      "gpt-3.5-turbo-instruct\n",
      "gpt-4-0613\n",
      "gpt-4-0314\n",
      "gpt-3.5-turbo-0613\n"
     ]
    }
   ],
   "source": [
    "import openai\n",
    "def openai_models(env=\"api_openai\", query='gpt'):\n",
    "    \"\"\"\n",
    "    List the availabel OpenAI models.\n",
    "    Parameters:\n",
    "        - env (str): Name of environmental variable storing the OpenAI API key.\n",
    "        - query (str): Search term for filtering models.\n",
    "    \"\"\"\n",
    "    openai.api_key = os.getenv(env)\n",
    "    response = openai.Model.list()\n",
    "    filtered_models = [model for model in response['data'] if model['id'].find(query) != -1]\n",
    "\n",
    "    for item in filtered_models:\n",
    "        print(item['id'])\n",
    "    return filtered_models\n",
    "\n",
    "models = openai_models(env='api_key_openai', query='gpt')\n"
   ]
  },
  {
   "cell_type": "markdown",
   "metadata": {},
   "source": [
    "# Initialize dictionary"
   ]
  },
  {
   "cell_type": "code",
   "execution_count": 2,
   "metadata": {},
   "outputs": [],
   "source": [
    "history_dict = dict()"
   ]
  },
  {
   "cell_type": "markdown",
   "metadata": {},
   "source": [
    "# Update `generate_completion` function"
   ]
  },
  {
   "cell_type": "code",
   "execution_count": 12,
   "metadata": {},
   "outputs": [
    {
     "ename": "NameError",
     "evalue": "name 'inf' is not defined",
     "output_type": "error",
     "traceback": [
      "\u001b[1;31m---------------------------------------------------------------------------\u001b[0m",
      "\u001b[1;31mNameError\u001b[0m                                 Traceback (most recent call last)",
      "\u001b[1;32mc:\\Users\\silvh\\OneDrive\\lighthouse\\portfolio-projects\\AI-content\\notebooks\\2023-11-08 open ai api testing.ipynb Cell 10\u001b[0m line \u001b[0;36m1\n\u001b[1;32m----> <a href='vscode-notebook-cell:/c%3A/Users/silvh/OneDrive/lighthouse/portfolio-projects/AI-content/notebooks/2023-11-08%20open%20ai%20api%20testing.ipynb#X40sZmlsZQ%3D%3D?line=0'>1</a>\u001b[0m hello \u001b[39m=\u001b[39m inf\n",
      "\u001b[1;31mNameError\u001b[0m: name 'inf' is not defined"
     ]
    }
   ],
   "source": [
    "hello = inf"
   ]
  },
  {
   "cell_type": "markdown",
   "metadata": {},
   "source": [
    "# Iteration 1"
   ]
  },
  {
   "cell_type": "code",
   "execution_count": 13,
   "metadata": {},
   "outputs": [
    {
     "ename": "APIError",
     "evalue": "Bad gateway. {\"error\":{\"code\":502,\"message\":\"Bad gateway.\",\"param\":null,\"type\":\"cf_bad_gateway\"}} 502 {'error': {'code': 502, 'message': 'Bad gateway.', 'param': None, 'type': 'cf_bad_gateway'}} {'Date': 'Wed, 08 Nov 2023 13:06:05 GMT', 'Content-Type': 'application/json', 'Content-Length': '84', 'Connection': 'keep-alive', 'X-Frame-Options': 'SAMEORIGIN', 'Referrer-Policy': 'same-origin', 'Cache-Control': 'private, max-age=0, no-store, no-cache, must-revalidate, post-check=0, pre-check=0', 'Expires': 'Thu, 01 Jan 1970 00:00:01 GMT', 'Server': 'cloudflare', 'CF-RAY': '822e07fdbd678419-YVR', 'alt-svc': 'h3=\":443\"; ma=86400'}",
     "output_type": "error",
     "traceback": [
      "\u001b[1;31m---------------------------------------------------------------------------\u001b[0m",
      "\u001b[1;31mAPIError\u001b[0m                                  Traceback (most recent call last)",
      "\u001b[1;32mc:\\Users\\silvh\\OneDrive\\lighthouse\\portfolio-projects\\AI-content\\notebooks\\2023-11-08 open ai api testing.ipynb Cell 11\u001b[0m line \u001b[0;36m6\n\u001b[0;32m     <a href='vscode-notebook-cell:/c%3A/Users/silvh/OneDrive/lighthouse/portfolio-projects/AI-content/notebooks/2023-11-08%20open%20ai%20api%20testing.ipynb#X34sZmlsZQ%3D%3D?line=57'>58</a>\u001b[0m user_input \u001b[39m=\u001b[39m \u001b[39m\"\u001b[39m\u001b[39mWhat\u001b[39m\u001b[39m'\u001b[39m\u001b[39ms in this image?\u001b[39m\u001b[39m\"\u001b[39m\n\u001b[0;32m     <a href='vscode-notebook-cell:/c%3A/Users/silvh/OneDrive/lighthouse/portfolio-projects/AI-content/notebooks/2023-11-08%20open%20ai%20api%20testing.ipynb#X34sZmlsZQ%3D%3D?line=58'>59</a>\u001b[0m model \u001b[39m=\u001b[39m \u001b[39m'\u001b[39m\u001b[39mgpt-4-vision-preview\u001b[39m\u001b[39m'\u001b[39m\n\u001b[1;32m---> <a href='vscode-notebook-cell:/c%3A/Users/silvh/OneDrive/lighthouse/portfolio-projects/AI-content/notebooks/2023-11-08%20open%20ai%20api%20testing.ipynb#X34sZmlsZQ%3D%3D?line=59'>60</a>\u001b[0m history \u001b[39m=\u001b[39m generate_completion(image_url, history_dict, model\u001b[39m=\u001b[39mmodel)\n",
      "\u001b[1;32mc:\\Users\\silvh\\OneDrive\\lighthouse\\portfolio-projects\\AI-content\\notebooks\\2023-11-08 open ai api testing.ipynb Cell 11\u001b[0m line \u001b[0;36m2\n\u001b[0;32m     <a href='vscode-notebook-cell:/c%3A/Users/silvh/OneDrive/lighthouse/portfolio-projects/AI-content/notebooks/2023-11-08%20open%20ai%20api%20testing.ipynb#X34sZmlsZQ%3D%3D?line=22'>23</a>\u001b[0m \u001b[39melse\u001b[39;00m:\n\u001b[0;32m     <a href='vscode-notebook-cell:/c%3A/Users/silvh/OneDrive/lighthouse/portfolio-projects/AI-content/notebooks/2023-11-08%20open%20ai%20api%20testing.ipynb#X34sZmlsZQ%3D%3D?line=23'>24</a>\u001b[0m     messages\u001b[39m=\u001b[39m[{\n\u001b[0;32m     <a href='vscode-notebook-cell:/c%3A/Users/silvh/OneDrive/lighthouse/portfolio-projects/AI-content/notebooks/2023-11-08%20open%20ai%20api%20testing.ipynb#X34sZmlsZQ%3D%3D?line=24'>25</a>\u001b[0m         \u001b[39m\"\u001b[39m\u001b[39mrole\u001b[39m\u001b[39m\"\u001b[39m: \u001b[39m\"\u001b[39m\u001b[39muser\u001b[39m\u001b[39m\"\u001b[39m,\n\u001b[0;32m     <a href='vscode-notebook-cell:/c%3A/Users/silvh/OneDrive/lighthouse/portfolio-projects/AI-content/notebooks/2023-11-08%20open%20ai%20api%20testing.ipynb#X34sZmlsZQ%3D%3D?line=25'>26</a>\u001b[0m         \u001b[39m\"\u001b[39m\u001b[39mcontent\u001b[39m\u001b[39m\"\u001b[39m: user_input\n\u001b[0;32m     <a href='vscode-notebook-cell:/c%3A/Users/silvh/OneDrive/lighthouse/portfolio-projects/AI-content/notebooks/2023-11-08%20open%20ai%20api%20testing.ipynb#X34sZmlsZQ%3D%3D?line=26'>27</a>\u001b[0m     }]\n\u001b[1;32m---> <a href='vscode-notebook-cell:/c%3A/Users/silvh/OneDrive/lighthouse/portfolio-projects/AI-content/notebooks/2023-11-08%20open%20ai%20api%20testing.ipynb#X34sZmlsZQ%3D%3D?line=28'>29</a>\u001b[0m response \u001b[39m=\u001b[39m openai\u001b[39m.\u001b[39mCompletion\u001b[39m.\u001b[39mcreate(\n\u001b[0;32m     <a href='vscode-notebook-cell:/c%3A/Users/silvh/OneDrive/lighthouse/portfolio-projects/AI-content/notebooks/2023-11-08%20open%20ai%20api%20testing.ipynb#X34sZmlsZQ%3D%3D?line=29'>30</a>\u001b[0m     model\u001b[39m=\u001b[39mmodel,\n\u001b[0;32m     <a href='vscode-notebook-cell:/c%3A/Users/silvh/OneDrive/lighthouse/portfolio-projects/AI-content/notebooks/2023-11-08%20open%20ai%20api%20testing.ipynb#X34sZmlsZQ%3D%3D?line=30'>31</a>\u001b[0m     messages\u001b[39m=\u001b[39mmessages,\n\u001b[0;32m     <a href='vscode-notebook-cell:/c%3A/Users/silvh/OneDrive/lighthouse/portfolio-projects/AI-content/notebooks/2023-11-08%20open%20ai%20api%20testing.ipynb#X34sZmlsZQ%3D%3D?line=31'>32</a>\u001b[0m     max_tokens\u001b[39m=\u001b[39mmax_tokens,\n\u001b[0;32m     <a href='vscode-notebook-cell:/c%3A/Users/silvh/OneDrive/lighthouse/portfolio-projects/AI-content/notebooks/2023-11-08%20open%20ai%20api%20testing.ipynb#X34sZmlsZQ%3D%3D?line=32'>33</a>\u001b[0m     temperature\u001b[39m=\u001b[39mtemperature,\n\u001b[0;32m     <a href='vscode-notebook-cell:/c%3A/Users/silvh/OneDrive/lighthouse/portfolio-projects/AI-content/notebooks/2023-11-08%20open%20ai%20api%20testing.ipynb#X34sZmlsZQ%3D%3D?line=33'>34</a>\u001b[0m     n\u001b[39m=\u001b[39m\u001b[39m1\u001b[39m,\n\u001b[0;32m     <a href='vscode-notebook-cell:/c%3A/Users/silvh/OneDrive/lighthouse/portfolio-projects/AI-content/notebooks/2023-11-08%20open%20ai%20api%20testing.ipynb#X34sZmlsZQ%3D%3D?line=34'>35</a>\u001b[0m     stop\u001b[39m=\u001b[39m\u001b[39mNone\u001b[39;00m,\n\u001b[0;32m     <a href='vscode-notebook-cell:/c%3A/Users/silvh/OneDrive/lighthouse/portfolio-projects/AI-content/notebooks/2023-11-08%20open%20ai%20api%20testing.ipynb#X34sZmlsZQ%3D%3D?line=35'>36</a>\u001b[0m     frequency_penalty\u001b[39m=\u001b[39m\u001b[39m0\u001b[39m,\n\u001b[0;32m     <a href='vscode-notebook-cell:/c%3A/Users/silvh/OneDrive/lighthouse/portfolio-projects/AI-content/notebooks/2023-11-08%20open%20ai%20api%20testing.ipynb#X34sZmlsZQ%3D%3D?line=36'>37</a>\u001b[0m     presence_penalty\u001b[39m=\u001b[39m\u001b[39m0\u001b[39m\n\u001b[0;32m     <a href='vscode-notebook-cell:/c%3A/Users/silvh/OneDrive/lighthouse/portfolio-projects/AI-content/notebooks/2023-11-08%20open%20ai%20api%20testing.ipynb#X34sZmlsZQ%3D%3D?line=37'>38</a>\u001b[0m )\n\u001b[0;32m     <a href='vscode-notebook-cell:/c%3A/Users/silvh/OneDrive/lighthouse/portfolio-projects/AI-content/notebooks/2023-11-08%20open%20ai%20api%20testing.ipynb#X34sZmlsZQ%3D%3D?line=39'>40</a>\u001b[0m \u001b[39mif\u001b[39;00m response\u001b[39m.\u001b[39mchoices[\u001b[39m0\u001b[39m]\u001b[39m.\u001b[39mtext:\n\u001b[0;32m     <a href='vscode-notebook-cell:/c%3A/Users/silvh/OneDrive/lighthouse/portfolio-projects/AI-content/notebooks/2023-11-08%20open%20ai%20api%20testing.ipynb#X34sZmlsZQ%3D%3D?line=40'>41</a>\u001b[0m     \u001b[39mprint\u001b[39m(\u001b[39m'\u001b[39m\u001b[39mTime completed:\u001b[39m\u001b[39m'\u001b[39m, datetime\u001b[39m.\u001b[39mnow())\n",
      "File \u001b[1;32mc:\\Users\\silvh\\.conda\\envs\\projects\\Lib\\site-packages\\openai\\api_resources\\completion.py:25\u001b[0m, in \u001b[0;36mCompletion.create\u001b[1;34m(cls, *args, **kwargs)\u001b[0m\n\u001b[0;32m     23\u001b[0m \u001b[39mwhile\u001b[39;00m \u001b[39mTrue\u001b[39;00m:\n\u001b[0;32m     24\u001b[0m     \u001b[39mtry\u001b[39;00m:\n\u001b[1;32m---> 25\u001b[0m         \u001b[39mreturn\u001b[39;00m \u001b[39msuper\u001b[39m()\u001b[39m.\u001b[39mcreate(\u001b[39m*\u001b[39margs, \u001b[39m*\u001b[39m\u001b[39m*\u001b[39mkwargs)\n\u001b[0;32m     26\u001b[0m     \u001b[39mexcept\u001b[39;00m TryAgain \u001b[39mas\u001b[39;00m e:\n\u001b[0;32m     27\u001b[0m         \u001b[39mif\u001b[39;00m timeout \u001b[39mis\u001b[39;00m \u001b[39mnot\u001b[39;00m \u001b[39mNone\u001b[39;00m \u001b[39mand\u001b[39;00m time\u001b[39m.\u001b[39mtime() \u001b[39m>\u001b[39m start \u001b[39m+\u001b[39m timeout:\n",
      "File \u001b[1;32mc:\\Users\\silvh\\.conda\\envs\\projects\\Lib\\site-packages\\openai\\api_resources\\abstract\\engine_api_resource.py:153\u001b[0m, in \u001b[0;36mEngineAPIResource.create\u001b[1;34m(cls, api_key, api_base, api_type, request_id, api_version, organization, **params)\u001b[0m\n\u001b[0;32m    127\u001b[0m \u001b[39m@classmethod\u001b[39m\n\u001b[0;32m    128\u001b[0m \u001b[39mdef\u001b[39;00m \u001b[39mcreate\u001b[39m(\n\u001b[0;32m    129\u001b[0m     \u001b[39mcls\u001b[39m,\n\u001b[1;32m   (...)\u001b[0m\n\u001b[0;32m    136\u001b[0m     \u001b[39m*\u001b[39m\u001b[39m*\u001b[39mparams,\n\u001b[0;32m    137\u001b[0m ):\n\u001b[0;32m    138\u001b[0m     (\n\u001b[0;32m    139\u001b[0m         deployment_id,\n\u001b[0;32m    140\u001b[0m         engine,\n\u001b[1;32m   (...)\u001b[0m\n\u001b[0;32m    150\u001b[0m         api_key, api_base, api_type, api_version, organization, \u001b[39m*\u001b[39m\u001b[39m*\u001b[39mparams\n\u001b[0;32m    151\u001b[0m     )\n\u001b[1;32m--> 153\u001b[0m     response, _, api_key \u001b[39m=\u001b[39m requestor\u001b[39m.\u001b[39mrequest(\n\u001b[0;32m    154\u001b[0m         \u001b[39m\"\u001b[39m\u001b[39mpost\u001b[39m\u001b[39m\"\u001b[39m,\n\u001b[0;32m    155\u001b[0m         url,\n\u001b[0;32m    156\u001b[0m         params\u001b[39m=\u001b[39mparams,\n\u001b[0;32m    157\u001b[0m         headers\u001b[39m=\u001b[39mheaders,\n\u001b[0;32m    158\u001b[0m         stream\u001b[39m=\u001b[39mstream,\n\u001b[0;32m    159\u001b[0m         request_id\u001b[39m=\u001b[39mrequest_id,\n\u001b[0;32m    160\u001b[0m         request_timeout\u001b[39m=\u001b[39mrequest_timeout,\n\u001b[0;32m    161\u001b[0m     )\n\u001b[0;32m    163\u001b[0m     \u001b[39mif\u001b[39;00m stream:\n\u001b[0;32m    164\u001b[0m         \u001b[39m# must be an iterator\u001b[39;00m\n\u001b[0;32m    165\u001b[0m         \u001b[39massert\u001b[39;00m \u001b[39mnot\u001b[39;00m \u001b[39misinstance\u001b[39m(response, OpenAIResponse)\n",
      "File \u001b[1;32mc:\\Users\\silvh\\.conda\\envs\\projects\\Lib\\site-packages\\openai\\api_requestor.py:226\u001b[0m, in \u001b[0;36mAPIRequestor.request\u001b[1;34m(self, method, url, params, headers, files, stream, request_id, request_timeout)\u001b[0m\n\u001b[0;32m    205\u001b[0m \u001b[39mdef\u001b[39;00m \u001b[39mrequest\u001b[39m(\n\u001b[0;32m    206\u001b[0m     \u001b[39mself\u001b[39m,\n\u001b[0;32m    207\u001b[0m     method,\n\u001b[1;32m   (...)\u001b[0m\n\u001b[0;32m    214\u001b[0m     request_timeout: Optional[Union[\u001b[39mfloat\u001b[39m, Tuple[\u001b[39mfloat\u001b[39m, \u001b[39mfloat\u001b[39m]]] \u001b[39m=\u001b[39m \u001b[39mNone\u001b[39;00m,\n\u001b[0;32m    215\u001b[0m ) \u001b[39m-\u001b[39m\u001b[39m>\u001b[39m Tuple[Union[OpenAIResponse, Iterator[OpenAIResponse]], \u001b[39mbool\u001b[39m, \u001b[39mstr\u001b[39m]:\n\u001b[0;32m    216\u001b[0m     result \u001b[39m=\u001b[39m \u001b[39mself\u001b[39m\u001b[39m.\u001b[39mrequest_raw(\n\u001b[0;32m    217\u001b[0m         method\u001b[39m.\u001b[39mlower(),\n\u001b[0;32m    218\u001b[0m         url,\n\u001b[1;32m   (...)\u001b[0m\n\u001b[0;32m    224\u001b[0m         request_timeout\u001b[39m=\u001b[39mrequest_timeout,\n\u001b[0;32m    225\u001b[0m     )\n\u001b[1;32m--> 226\u001b[0m     resp, got_stream \u001b[39m=\u001b[39m \u001b[39mself\u001b[39m\u001b[39m.\u001b[39m_interpret_response(result, stream)\n\u001b[0;32m    227\u001b[0m     \u001b[39mreturn\u001b[39;00m resp, got_stream, \u001b[39mself\u001b[39m\u001b[39m.\u001b[39mapi_key\n",
      "File \u001b[1;32mc:\\Users\\silvh\\.conda\\envs\\projects\\Lib\\site-packages\\openai\\api_requestor.py:620\u001b[0m, in \u001b[0;36mAPIRequestor._interpret_response\u001b[1;34m(self, result, stream)\u001b[0m\n\u001b[0;32m    612\u001b[0m     \u001b[39mreturn\u001b[39;00m (\n\u001b[0;32m    613\u001b[0m         \u001b[39mself\u001b[39m\u001b[39m.\u001b[39m_interpret_response_line(\n\u001b[0;32m    614\u001b[0m             line, result\u001b[39m.\u001b[39mstatus_code, result\u001b[39m.\u001b[39mheaders, stream\u001b[39m=\u001b[39m\u001b[39mTrue\u001b[39;00m\n\u001b[0;32m    615\u001b[0m         )\n\u001b[0;32m    616\u001b[0m         \u001b[39mfor\u001b[39;00m line \u001b[39min\u001b[39;00m parse_stream(result\u001b[39m.\u001b[39miter_lines())\n\u001b[0;32m    617\u001b[0m     ), \u001b[39mTrue\u001b[39;00m\n\u001b[0;32m    618\u001b[0m \u001b[39melse\u001b[39;00m:\n\u001b[0;32m    619\u001b[0m     \u001b[39mreturn\u001b[39;00m (\n\u001b[1;32m--> 620\u001b[0m         \u001b[39mself\u001b[39m\u001b[39m.\u001b[39m_interpret_response_line(\n\u001b[0;32m    621\u001b[0m             result\u001b[39m.\u001b[39mcontent\u001b[39m.\u001b[39mdecode(\u001b[39m\"\u001b[39m\u001b[39mutf-8\u001b[39m\u001b[39m\"\u001b[39m),\n\u001b[0;32m    622\u001b[0m             result\u001b[39m.\u001b[39mstatus_code,\n\u001b[0;32m    623\u001b[0m             result\u001b[39m.\u001b[39mheaders,\n\u001b[0;32m    624\u001b[0m             stream\u001b[39m=\u001b[39m\u001b[39mFalse\u001b[39;00m,\n\u001b[0;32m    625\u001b[0m         ),\n\u001b[0;32m    626\u001b[0m         \u001b[39mFalse\u001b[39;00m,\n\u001b[0;32m    627\u001b[0m     )\n",
      "File \u001b[1;32mc:\\Users\\silvh\\.conda\\envs\\projects\\Lib\\site-packages\\openai\\api_requestor.py:683\u001b[0m, in \u001b[0;36mAPIRequestor._interpret_response_line\u001b[1;34m(self, rbody, rcode, rheaders, stream)\u001b[0m\n\u001b[0;32m    681\u001b[0m stream_error \u001b[39m=\u001b[39m stream \u001b[39mand\u001b[39;00m \u001b[39m\"\u001b[39m\u001b[39merror\u001b[39m\u001b[39m\"\u001b[39m \u001b[39min\u001b[39;00m resp\u001b[39m.\u001b[39mdata\n\u001b[0;32m    682\u001b[0m \u001b[39mif\u001b[39;00m stream_error \u001b[39mor\u001b[39;00m \u001b[39mnot\u001b[39;00m \u001b[39m200\u001b[39m \u001b[39m<\u001b[39m\u001b[39m=\u001b[39m rcode \u001b[39m<\u001b[39m \u001b[39m300\u001b[39m:\n\u001b[1;32m--> 683\u001b[0m     \u001b[39mraise\u001b[39;00m \u001b[39mself\u001b[39m\u001b[39m.\u001b[39mhandle_error_response(\n\u001b[0;32m    684\u001b[0m         rbody, rcode, resp\u001b[39m.\u001b[39mdata, rheaders, stream_error\u001b[39m=\u001b[39mstream_error\n\u001b[0;32m    685\u001b[0m     )\n\u001b[0;32m    686\u001b[0m \u001b[39mreturn\u001b[39;00m resp\n",
      "\u001b[1;31mAPIError\u001b[0m: Bad gateway. {\"error\":{\"code\":502,\"message\":\"Bad gateway.\",\"param\":null,\"type\":\"cf_bad_gateway\"}} 502 {'error': {'code': 502, 'message': 'Bad gateway.', 'param': None, 'type': 'cf_bad_gateway'}} {'Date': 'Wed, 08 Nov 2023 13:06:05 GMT', 'Content-Type': 'application/json', 'Content-Length': '84', 'Connection': 'keep-alive', 'X-Frame-Options': 'SAMEORIGIN', 'Referrer-Policy': 'same-origin', 'Cache-Control': 'private, max-age=0, no-store, no-cache, must-revalidate, post-check=0, pre-check=0', 'Expires': 'Thu, 01 Jan 1970 00:00:01 GMT', 'Server': 'cloudflare', 'CF-RAY': '822e07fdbd678419-YVR', 'alt-svc': 'h3=\":443\"; ma=86400'}"
     ]
    }
   ],
   "source": [
    "import openai\n",
    "import json\n",
    "import IPython\n",
    "from datetime import datetime\n",
    "def generate_completion(\n",
    "    image_url, history, user_input=None, max_tokens=300, temperature=0.0, model=\"gpt-3.5-turbo\"\n",
    "    ):\n",
    "    if user_input == None:\n",
    "        user_input = \"What's in this image?\"\n",
    "    vision_models = ['gpt-4-vision-preview']\n",
    "    if model in vision_models:\n",
    "        messages = [{\n",
    "            \"role\": \"user\",\n",
    "            \"content\": [{\n",
    "                \"type\": \"text\", \n",
    "                \"text\": user_input\n",
    "            },\n",
    "            {\n",
    "                \"type\": \"image_url\",\n",
    "                \"image_url\": image_url,\n",
    "            }],\n",
    "        }]\n",
    "    else:\n",
    "        messages=[{\n",
    "            \"role\": \"user\",\n",
    "            \"content\": user_input\n",
    "        }]\n",
    "        \n",
    "    response = openai.Completion.create(\n",
    "        model=model,\n",
    "        messages=messages,\n",
    "        max_tokens=max_tokens,\n",
    "        temperature=temperature,\n",
    "        n=1,\n",
    "        stop=None,\n",
    "        frequency_penalty=0,\n",
    "        presence_penalty=0\n",
    "    )\n",
    "\n",
    "    if response.choices[0].text:\n",
    "        print('Time completed:', datetime.now())\n",
    "        response_string = response.choices[0].text.strip()\n",
    "        try:\n",
    "            history['prompt'].append(prompt)\n",
    "            history['response_text'].append(response_string)\n",
    "            history['response'].append(response)\n",
    "            history['response_MD'].append(IPython.display.Markdown(response_string))\n",
    "        except:\n",
    "            history['prompt'] = [prompt]\n",
    "            history['response_text'] = [response_string]\n",
    "            history['response'] = [response]\n",
    "            history['response_MD'] = [IPython.display.Markdown(response_string)]\n",
    "        return history\n",
    "    else:\n",
    "        return response\n",
    "\n",
    "image_url = 'https://1drv.ms/i/s!ApTIpYMcXzSTguIs6Y8VrhdqH-wnwA?e=4EotGX'\n",
    "user_input = \"What's in this image?\"\n",
    "model = 'gpt-4-vision-preview'\n",
    "history = generate_completion(image_url, history_dict, model=model)\n",
    "\n"
   ]
  },
  {
   "cell_type": "code",
   "execution_count": 14,
   "metadata": {},
   "outputs": [
    {
     "ename": "InvalidRequestError",
     "evalue": "3 validation errors for Request\nbody -> stop\n  none is not an allowed value (type=type_error.none.not_allowed)\nbody -> prompt\n  field required (type=value_error.missing)\nbody -> messages\n  extra fields not permitted (type=value_error.extra)",
     "output_type": "error",
     "traceback": [
      "\u001b[1;31m---------------------------------------------------------------------------\u001b[0m",
      "\u001b[1;31mInvalidRequestError\u001b[0m                       Traceback (most recent call last)",
      "\u001b[1;32mc:\\Users\\silvh\\OneDrive\\lighthouse\\portfolio-projects\\AI-content\\notebooks\\2023-11-08 open ai api testing.ipynb Cell 12\u001b[0m line \u001b[0;36m1\n\u001b[1;32m----> <a href='vscode-notebook-cell:/c%3A/Users/silvh/OneDrive/lighthouse/portfolio-projects/AI-content/notebooks/2023-11-08%20open%20ai%20api%20testing.ipynb#W5sZmlsZQ%3D%3D?line=0'>1</a>\u001b[0m history \u001b[39m=\u001b[39m generate_completion(image_url, history_dict, model\u001b[39m=\u001b[39mmodel)\n",
      "\u001b[1;32mc:\\Users\\silvh\\OneDrive\\lighthouse\\portfolio-projects\\AI-content\\notebooks\\2023-11-08 open ai api testing.ipynb Cell 12\u001b[0m line \u001b[0;36m2\n\u001b[0;32m     <a href='vscode-notebook-cell:/c%3A/Users/silvh/OneDrive/lighthouse/portfolio-projects/AI-content/notebooks/2023-11-08%20open%20ai%20api%20testing.ipynb#W5sZmlsZQ%3D%3D?line=22'>23</a>\u001b[0m \u001b[39melse\u001b[39;00m:\n\u001b[0;32m     <a href='vscode-notebook-cell:/c%3A/Users/silvh/OneDrive/lighthouse/portfolio-projects/AI-content/notebooks/2023-11-08%20open%20ai%20api%20testing.ipynb#W5sZmlsZQ%3D%3D?line=23'>24</a>\u001b[0m     messages\u001b[39m=\u001b[39m[{\n\u001b[0;32m     <a href='vscode-notebook-cell:/c%3A/Users/silvh/OneDrive/lighthouse/portfolio-projects/AI-content/notebooks/2023-11-08%20open%20ai%20api%20testing.ipynb#W5sZmlsZQ%3D%3D?line=24'>25</a>\u001b[0m         \u001b[39m\"\u001b[39m\u001b[39mrole\u001b[39m\u001b[39m\"\u001b[39m: \u001b[39m\"\u001b[39m\u001b[39muser\u001b[39m\u001b[39m\"\u001b[39m,\n\u001b[0;32m     <a href='vscode-notebook-cell:/c%3A/Users/silvh/OneDrive/lighthouse/portfolio-projects/AI-content/notebooks/2023-11-08%20open%20ai%20api%20testing.ipynb#W5sZmlsZQ%3D%3D?line=25'>26</a>\u001b[0m         \u001b[39m\"\u001b[39m\u001b[39mcontent\u001b[39m\u001b[39m\"\u001b[39m: user_input\n\u001b[0;32m     <a href='vscode-notebook-cell:/c%3A/Users/silvh/OneDrive/lighthouse/portfolio-projects/AI-content/notebooks/2023-11-08%20open%20ai%20api%20testing.ipynb#W5sZmlsZQ%3D%3D?line=26'>27</a>\u001b[0m     }]\n\u001b[1;32m---> <a href='vscode-notebook-cell:/c%3A/Users/silvh/OneDrive/lighthouse/portfolio-projects/AI-content/notebooks/2023-11-08%20open%20ai%20api%20testing.ipynb#W5sZmlsZQ%3D%3D?line=28'>29</a>\u001b[0m response \u001b[39m=\u001b[39m openai\u001b[39m.\u001b[39mCompletion\u001b[39m.\u001b[39mcreate(\n\u001b[0;32m     <a href='vscode-notebook-cell:/c%3A/Users/silvh/OneDrive/lighthouse/portfolio-projects/AI-content/notebooks/2023-11-08%20open%20ai%20api%20testing.ipynb#W5sZmlsZQ%3D%3D?line=29'>30</a>\u001b[0m     model\u001b[39m=\u001b[39mmodel,\n\u001b[0;32m     <a href='vscode-notebook-cell:/c%3A/Users/silvh/OneDrive/lighthouse/portfolio-projects/AI-content/notebooks/2023-11-08%20open%20ai%20api%20testing.ipynb#W5sZmlsZQ%3D%3D?line=30'>31</a>\u001b[0m     messages\u001b[39m=\u001b[39mmessages,\n\u001b[0;32m     <a href='vscode-notebook-cell:/c%3A/Users/silvh/OneDrive/lighthouse/portfolio-projects/AI-content/notebooks/2023-11-08%20open%20ai%20api%20testing.ipynb#W5sZmlsZQ%3D%3D?line=31'>32</a>\u001b[0m     max_tokens\u001b[39m=\u001b[39mmax_tokens,\n\u001b[0;32m     <a href='vscode-notebook-cell:/c%3A/Users/silvh/OneDrive/lighthouse/portfolio-projects/AI-content/notebooks/2023-11-08%20open%20ai%20api%20testing.ipynb#W5sZmlsZQ%3D%3D?line=32'>33</a>\u001b[0m     temperature\u001b[39m=\u001b[39mtemperature,\n\u001b[0;32m     <a href='vscode-notebook-cell:/c%3A/Users/silvh/OneDrive/lighthouse/portfolio-projects/AI-content/notebooks/2023-11-08%20open%20ai%20api%20testing.ipynb#W5sZmlsZQ%3D%3D?line=33'>34</a>\u001b[0m     n\u001b[39m=\u001b[39m\u001b[39m1\u001b[39m,\n\u001b[0;32m     <a href='vscode-notebook-cell:/c%3A/Users/silvh/OneDrive/lighthouse/portfolio-projects/AI-content/notebooks/2023-11-08%20open%20ai%20api%20testing.ipynb#W5sZmlsZQ%3D%3D?line=34'>35</a>\u001b[0m     stop\u001b[39m=\u001b[39m\u001b[39mNone\u001b[39;00m,\n\u001b[0;32m     <a href='vscode-notebook-cell:/c%3A/Users/silvh/OneDrive/lighthouse/portfolio-projects/AI-content/notebooks/2023-11-08%20open%20ai%20api%20testing.ipynb#W5sZmlsZQ%3D%3D?line=35'>36</a>\u001b[0m     frequency_penalty\u001b[39m=\u001b[39m\u001b[39m0\u001b[39m,\n\u001b[0;32m     <a href='vscode-notebook-cell:/c%3A/Users/silvh/OneDrive/lighthouse/portfolio-projects/AI-content/notebooks/2023-11-08%20open%20ai%20api%20testing.ipynb#W5sZmlsZQ%3D%3D?line=36'>37</a>\u001b[0m     presence_penalty\u001b[39m=\u001b[39m\u001b[39m0\u001b[39m\n\u001b[0;32m     <a href='vscode-notebook-cell:/c%3A/Users/silvh/OneDrive/lighthouse/portfolio-projects/AI-content/notebooks/2023-11-08%20open%20ai%20api%20testing.ipynb#W5sZmlsZQ%3D%3D?line=37'>38</a>\u001b[0m )\n\u001b[0;32m     <a href='vscode-notebook-cell:/c%3A/Users/silvh/OneDrive/lighthouse/portfolio-projects/AI-content/notebooks/2023-11-08%20open%20ai%20api%20testing.ipynb#W5sZmlsZQ%3D%3D?line=39'>40</a>\u001b[0m \u001b[39mif\u001b[39;00m response\u001b[39m.\u001b[39mchoices[\u001b[39m0\u001b[39m]\u001b[39m.\u001b[39mtext:\n\u001b[0;32m     <a href='vscode-notebook-cell:/c%3A/Users/silvh/OneDrive/lighthouse/portfolio-projects/AI-content/notebooks/2023-11-08%20open%20ai%20api%20testing.ipynb#W5sZmlsZQ%3D%3D?line=40'>41</a>\u001b[0m     \u001b[39mprint\u001b[39m(\u001b[39m'\u001b[39m\u001b[39mTime completed:\u001b[39m\u001b[39m'\u001b[39m, datetime\u001b[39m.\u001b[39mnow())\n",
      "File \u001b[1;32mc:\\Users\\silvh\\.conda\\envs\\projects\\Lib\\site-packages\\openai\\api_resources\\completion.py:25\u001b[0m, in \u001b[0;36mCompletion.create\u001b[1;34m(cls, *args, **kwargs)\u001b[0m\n\u001b[0;32m     23\u001b[0m \u001b[39mwhile\u001b[39;00m \u001b[39mTrue\u001b[39;00m:\n\u001b[0;32m     24\u001b[0m     \u001b[39mtry\u001b[39;00m:\n\u001b[1;32m---> 25\u001b[0m         \u001b[39mreturn\u001b[39;00m \u001b[39msuper\u001b[39m()\u001b[39m.\u001b[39mcreate(\u001b[39m*\u001b[39margs, \u001b[39m*\u001b[39m\u001b[39m*\u001b[39mkwargs)\n\u001b[0;32m     26\u001b[0m     \u001b[39mexcept\u001b[39;00m TryAgain \u001b[39mas\u001b[39;00m e:\n\u001b[0;32m     27\u001b[0m         \u001b[39mif\u001b[39;00m timeout \u001b[39mis\u001b[39;00m \u001b[39mnot\u001b[39;00m \u001b[39mNone\u001b[39;00m \u001b[39mand\u001b[39;00m time\u001b[39m.\u001b[39mtime() \u001b[39m>\u001b[39m start \u001b[39m+\u001b[39m timeout:\n",
      "File \u001b[1;32mc:\\Users\\silvh\\.conda\\envs\\projects\\Lib\\site-packages\\openai\\api_resources\\abstract\\engine_api_resource.py:153\u001b[0m, in \u001b[0;36mEngineAPIResource.create\u001b[1;34m(cls, api_key, api_base, api_type, request_id, api_version, organization, **params)\u001b[0m\n\u001b[0;32m    127\u001b[0m \u001b[39m@classmethod\u001b[39m\n\u001b[0;32m    128\u001b[0m \u001b[39mdef\u001b[39;00m \u001b[39mcreate\u001b[39m(\n\u001b[0;32m    129\u001b[0m     \u001b[39mcls\u001b[39m,\n\u001b[1;32m   (...)\u001b[0m\n\u001b[0;32m    136\u001b[0m     \u001b[39m*\u001b[39m\u001b[39m*\u001b[39mparams,\n\u001b[0;32m    137\u001b[0m ):\n\u001b[0;32m    138\u001b[0m     (\n\u001b[0;32m    139\u001b[0m         deployment_id,\n\u001b[0;32m    140\u001b[0m         engine,\n\u001b[1;32m   (...)\u001b[0m\n\u001b[0;32m    150\u001b[0m         api_key, api_base, api_type, api_version, organization, \u001b[39m*\u001b[39m\u001b[39m*\u001b[39mparams\n\u001b[0;32m    151\u001b[0m     )\n\u001b[1;32m--> 153\u001b[0m     response, _, api_key \u001b[39m=\u001b[39m requestor\u001b[39m.\u001b[39mrequest(\n\u001b[0;32m    154\u001b[0m         \u001b[39m\"\u001b[39m\u001b[39mpost\u001b[39m\u001b[39m\"\u001b[39m,\n\u001b[0;32m    155\u001b[0m         url,\n\u001b[0;32m    156\u001b[0m         params\u001b[39m=\u001b[39mparams,\n\u001b[0;32m    157\u001b[0m         headers\u001b[39m=\u001b[39mheaders,\n\u001b[0;32m    158\u001b[0m         stream\u001b[39m=\u001b[39mstream,\n\u001b[0;32m    159\u001b[0m         request_id\u001b[39m=\u001b[39mrequest_id,\n\u001b[0;32m    160\u001b[0m         request_timeout\u001b[39m=\u001b[39mrequest_timeout,\n\u001b[0;32m    161\u001b[0m     )\n\u001b[0;32m    163\u001b[0m     \u001b[39mif\u001b[39;00m stream:\n\u001b[0;32m    164\u001b[0m         \u001b[39m# must be an iterator\u001b[39;00m\n\u001b[0;32m    165\u001b[0m         \u001b[39massert\u001b[39;00m \u001b[39mnot\u001b[39;00m \u001b[39misinstance\u001b[39m(response, OpenAIResponse)\n",
      "File \u001b[1;32mc:\\Users\\silvh\\.conda\\envs\\projects\\Lib\\site-packages\\openai\\api_requestor.py:226\u001b[0m, in \u001b[0;36mAPIRequestor.request\u001b[1;34m(self, method, url, params, headers, files, stream, request_id, request_timeout)\u001b[0m\n\u001b[0;32m    205\u001b[0m \u001b[39mdef\u001b[39;00m \u001b[39mrequest\u001b[39m(\n\u001b[0;32m    206\u001b[0m     \u001b[39mself\u001b[39m,\n\u001b[0;32m    207\u001b[0m     method,\n\u001b[1;32m   (...)\u001b[0m\n\u001b[0;32m    214\u001b[0m     request_timeout: Optional[Union[\u001b[39mfloat\u001b[39m, Tuple[\u001b[39mfloat\u001b[39m, \u001b[39mfloat\u001b[39m]]] \u001b[39m=\u001b[39m \u001b[39mNone\u001b[39;00m,\n\u001b[0;32m    215\u001b[0m ) \u001b[39m-\u001b[39m\u001b[39m>\u001b[39m Tuple[Union[OpenAIResponse, Iterator[OpenAIResponse]], \u001b[39mbool\u001b[39m, \u001b[39mstr\u001b[39m]:\n\u001b[0;32m    216\u001b[0m     result \u001b[39m=\u001b[39m \u001b[39mself\u001b[39m\u001b[39m.\u001b[39mrequest_raw(\n\u001b[0;32m    217\u001b[0m         method\u001b[39m.\u001b[39mlower(),\n\u001b[0;32m    218\u001b[0m         url,\n\u001b[1;32m   (...)\u001b[0m\n\u001b[0;32m    224\u001b[0m         request_timeout\u001b[39m=\u001b[39mrequest_timeout,\n\u001b[0;32m    225\u001b[0m     )\n\u001b[1;32m--> 226\u001b[0m     resp, got_stream \u001b[39m=\u001b[39m \u001b[39mself\u001b[39m\u001b[39m.\u001b[39m_interpret_response(result, stream)\n\u001b[0;32m    227\u001b[0m     \u001b[39mreturn\u001b[39;00m resp, got_stream, \u001b[39mself\u001b[39m\u001b[39m.\u001b[39mapi_key\n",
      "File \u001b[1;32mc:\\Users\\silvh\\.conda\\envs\\projects\\Lib\\site-packages\\openai\\api_requestor.py:620\u001b[0m, in \u001b[0;36mAPIRequestor._interpret_response\u001b[1;34m(self, result, stream)\u001b[0m\n\u001b[0;32m    612\u001b[0m     \u001b[39mreturn\u001b[39;00m (\n\u001b[0;32m    613\u001b[0m         \u001b[39mself\u001b[39m\u001b[39m.\u001b[39m_interpret_response_line(\n\u001b[0;32m    614\u001b[0m             line, result\u001b[39m.\u001b[39mstatus_code, result\u001b[39m.\u001b[39mheaders, stream\u001b[39m=\u001b[39m\u001b[39mTrue\u001b[39;00m\n\u001b[0;32m    615\u001b[0m         )\n\u001b[0;32m    616\u001b[0m         \u001b[39mfor\u001b[39;00m line \u001b[39min\u001b[39;00m parse_stream(result\u001b[39m.\u001b[39miter_lines())\n\u001b[0;32m    617\u001b[0m     ), \u001b[39mTrue\u001b[39;00m\n\u001b[0;32m    618\u001b[0m \u001b[39melse\u001b[39;00m:\n\u001b[0;32m    619\u001b[0m     \u001b[39mreturn\u001b[39;00m (\n\u001b[1;32m--> 620\u001b[0m         \u001b[39mself\u001b[39m\u001b[39m.\u001b[39m_interpret_response_line(\n\u001b[0;32m    621\u001b[0m             result\u001b[39m.\u001b[39mcontent\u001b[39m.\u001b[39mdecode(\u001b[39m\"\u001b[39m\u001b[39mutf-8\u001b[39m\u001b[39m\"\u001b[39m),\n\u001b[0;32m    622\u001b[0m             result\u001b[39m.\u001b[39mstatus_code,\n\u001b[0;32m    623\u001b[0m             result\u001b[39m.\u001b[39mheaders,\n\u001b[0;32m    624\u001b[0m             stream\u001b[39m=\u001b[39m\u001b[39mFalse\u001b[39;00m,\n\u001b[0;32m    625\u001b[0m         ),\n\u001b[0;32m    626\u001b[0m         \u001b[39mFalse\u001b[39;00m,\n\u001b[0;32m    627\u001b[0m     )\n",
      "File \u001b[1;32mc:\\Users\\silvh\\.conda\\envs\\projects\\Lib\\site-packages\\openai\\api_requestor.py:683\u001b[0m, in \u001b[0;36mAPIRequestor._interpret_response_line\u001b[1;34m(self, rbody, rcode, rheaders, stream)\u001b[0m\n\u001b[0;32m    681\u001b[0m stream_error \u001b[39m=\u001b[39m stream \u001b[39mand\u001b[39;00m \u001b[39m\"\u001b[39m\u001b[39merror\u001b[39m\u001b[39m\"\u001b[39m \u001b[39min\u001b[39;00m resp\u001b[39m.\u001b[39mdata\n\u001b[0;32m    682\u001b[0m \u001b[39mif\u001b[39;00m stream_error \u001b[39mor\u001b[39;00m \u001b[39mnot\u001b[39;00m \u001b[39m200\u001b[39m \u001b[39m<\u001b[39m\u001b[39m=\u001b[39m rcode \u001b[39m<\u001b[39m \u001b[39m300\u001b[39m:\n\u001b[1;32m--> 683\u001b[0m     \u001b[39mraise\u001b[39;00m \u001b[39mself\u001b[39m\u001b[39m.\u001b[39mhandle_error_response(\n\u001b[0;32m    684\u001b[0m         rbody, rcode, resp\u001b[39m.\u001b[39mdata, rheaders, stream_error\u001b[39m=\u001b[39mstream_error\n\u001b[0;32m    685\u001b[0m     )\n\u001b[0;32m    686\u001b[0m \u001b[39mreturn\u001b[39;00m resp\n",
      "\u001b[1;31mInvalidRequestError\u001b[0m: 3 validation errors for Request\nbody -> stop\n  none is not an allowed value (type=type_error.none.not_allowed)\nbody -> prompt\n  field required (type=value_error.missing)\nbody -> messages\n  extra fields not permitted (type=value_error.extra)"
     ]
    }
   ],
   "source": [
    "history = generate_completion(image_url, history_dict, model=model)"
   ]
  },
  {
   "cell_type": "markdown",
   "metadata": {},
   "source": [
    "## 1.1"
   ]
  },
  {
   "cell_type": "code",
   "execution_count": 15,
   "metadata": {},
   "outputs": [
    {
     "ename": "InvalidRequestError",
     "evalue": "Unrecognized request argument supplied: messages",
     "output_type": "error",
     "traceback": [
      "\u001b[1;31m---------------------------------------------------------------------------\u001b[0m",
      "\u001b[1;31mInvalidRequestError\u001b[0m                       Traceback (most recent call last)",
      "\u001b[1;32mc:\\Users\\silvh\\OneDrive\\lighthouse\\portfolio-projects\\AI-content\\notebooks\\2023-11-08 open ai api testing.ipynb Cell 15\u001b[0m line \u001b[0;36m6\n\u001b[0;32m     <a href='vscode-notebook-cell:/c%3A/Users/silvh/OneDrive/lighthouse/portfolio-projects/AI-content/notebooks/2023-11-08%20open%20ai%20api%20testing.ipynb#W6sZmlsZQ%3D%3D?line=60'>61</a>\u001b[0m \u001b[39m# user_input = \"What's in this image?\"\u001b[39;00m\n\u001b[0;32m     <a href='vscode-notebook-cell:/c%3A/Users/silvh/OneDrive/lighthouse/portfolio-projects/AI-content/notebooks/2023-11-08%20open%20ai%20api%20testing.ipynb#W6sZmlsZQ%3D%3D?line=61'>62</a>\u001b[0m \u001b[39m# model = 'gpt-4-vision-preview'\u001b[39;00m\n\u001b[0;32m     <a href='vscode-notebook-cell:/c%3A/Users/silvh/OneDrive/lighthouse/portfolio-projects/AI-content/notebooks/2023-11-08%20open%20ai%20api%20testing.ipynb#W6sZmlsZQ%3D%3D?line=62'>63</a>\u001b[0m model \u001b[39m=\u001b[39m \u001b[39mNone\u001b[39;00m\n\u001b[1;32m---> <a href='vscode-notebook-cell:/c%3A/Users/silvh/OneDrive/lighthouse/portfolio-projects/AI-content/notebooks/2023-11-08%20open%20ai%20api%20testing.ipynb#W6sZmlsZQ%3D%3D?line=63'>64</a>\u001b[0m history \u001b[39m=\u001b[39m generate_completion(image_url, history_dict, model\u001b[39m=\u001b[39mmodel)\n",
      "\u001b[1;32mc:\\Users\\silvh\\OneDrive\\lighthouse\\portfolio-projects\\AI-content\\notebooks\\2023-11-08 open ai api testing.ipynb Cell 15\u001b[0m line \u001b[0;36m3\n\u001b[0;32m     <a href='vscode-notebook-cell:/c%3A/Users/silvh/OneDrive/lighthouse/portfolio-projects/AI-content/notebooks/2023-11-08%20open%20ai%20api%20testing.ipynb#W6sZmlsZQ%3D%3D?line=25'>26</a>\u001b[0m \u001b[39melse\u001b[39;00m:\n\u001b[0;32m     <a href='vscode-notebook-cell:/c%3A/Users/silvh/OneDrive/lighthouse/portfolio-projects/AI-content/notebooks/2023-11-08%20open%20ai%20api%20testing.ipynb#W6sZmlsZQ%3D%3D?line=26'>27</a>\u001b[0m     messages\u001b[39m=\u001b[39m[{\n\u001b[0;32m     <a href='vscode-notebook-cell:/c%3A/Users/silvh/OneDrive/lighthouse/portfolio-projects/AI-content/notebooks/2023-11-08%20open%20ai%20api%20testing.ipynb#W6sZmlsZQ%3D%3D?line=27'>28</a>\u001b[0m         \u001b[39m\"\u001b[39m\u001b[39mrole\u001b[39m\u001b[39m\"\u001b[39m: \u001b[39m\"\u001b[39m\u001b[39muser\u001b[39m\u001b[39m\"\u001b[39m,\n\u001b[0;32m     <a href='vscode-notebook-cell:/c%3A/Users/silvh/OneDrive/lighthouse/portfolio-projects/AI-content/notebooks/2023-11-08%20open%20ai%20api%20testing.ipynb#W6sZmlsZQ%3D%3D?line=28'>29</a>\u001b[0m         \u001b[39m\"\u001b[39m\u001b[39mcontent\u001b[39m\u001b[39m\"\u001b[39m: user_input\n\u001b[0;32m     <a href='vscode-notebook-cell:/c%3A/Users/silvh/OneDrive/lighthouse/portfolio-projects/AI-content/notebooks/2023-11-08%20open%20ai%20api%20testing.ipynb#W6sZmlsZQ%3D%3D?line=29'>30</a>\u001b[0m     }]\n\u001b[1;32m---> <a href='vscode-notebook-cell:/c%3A/Users/silvh/OneDrive/lighthouse/portfolio-projects/AI-content/notebooks/2023-11-08%20open%20ai%20api%20testing.ipynb#W6sZmlsZQ%3D%3D?line=31'>32</a>\u001b[0m response \u001b[39m=\u001b[39m openai\u001b[39m.\u001b[39mCompletion\u001b[39m.\u001b[39mcreate(\n\u001b[0;32m     <a href='vscode-notebook-cell:/c%3A/Users/silvh/OneDrive/lighthouse/portfolio-projects/AI-content/notebooks/2023-11-08%20open%20ai%20api%20testing.ipynb#W6sZmlsZQ%3D%3D?line=32'>33</a>\u001b[0m     model\u001b[39m=\u001b[39mmodel,\n\u001b[0;32m     <a href='vscode-notebook-cell:/c%3A/Users/silvh/OneDrive/lighthouse/portfolio-projects/AI-content/notebooks/2023-11-08%20open%20ai%20api%20testing.ipynb#W6sZmlsZQ%3D%3D?line=33'>34</a>\u001b[0m     messages\u001b[39m=\u001b[39mmessages,\n\u001b[0;32m     <a href='vscode-notebook-cell:/c%3A/Users/silvh/OneDrive/lighthouse/portfolio-projects/AI-content/notebooks/2023-11-08%20open%20ai%20api%20testing.ipynb#W6sZmlsZQ%3D%3D?line=34'>35</a>\u001b[0m     max_tokens\u001b[39m=\u001b[39mmax_tokens,\n\u001b[0;32m     <a href='vscode-notebook-cell:/c%3A/Users/silvh/OneDrive/lighthouse/portfolio-projects/AI-content/notebooks/2023-11-08%20open%20ai%20api%20testing.ipynb#W6sZmlsZQ%3D%3D?line=35'>36</a>\u001b[0m     temperature\u001b[39m=\u001b[39mtemperature,\n\u001b[0;32m     <a href='vscode-notebook-cell:/c%3A/Users/silvh/OneDrive/lighthouse/portfolio-projects/AI-content/notebooks/2023-11-08%20open%20ai%20api%20testing.ipynb#W6sZmlsZQ%3D%3D?line=36'>37</a>\u001b[0m     n\u001b[39m=\u001b[39m\u001b[39m1\u001b[39m,\n\u001b[0;32m     <a href='vscode-notebook-cell:/c%3A/Users/silvh/OneDrive/lighthouse/portfolio-projects/AI-content/notebooks/2023-11-08%20open%20ai%20api%20testing.ipynb#W6sZmlsZQ%3D%3D?line=37'>38</a>\u001b[0m     frequency_penalty\u001b[39m=\u001b[39m\u001b[39m0\u001b[39m,\n\u001b[0;32m     <a href='vscode-notebook-cell:/c%3A/Users/silvh/OneDrive/lighthouse/portfolio-projects/AI-content/notebooks/2023-11-08%20open%20ai%20api%20testing.ipynb#W6sZmlsZQ%3D%3D?line=38'>39</a>\u001b[0m     presence_penalty\u001b[39m=\u001b[39m\u001b[39m0\u001b[39m\n\u001b[0;32m     <a href='vscode-notebook-cell:/c%3A/Users/silvh/OneDrive/lighthouse/portfolio-projects/AI-content/notebooks/2023-11-08%20open%20ai%20api%20testing.ipynb#W6sZmlsZQ%3D%3D?line=39'>40</a>\u001b[0m )\n\u001b[0;32m     <a href='vscode-notebook-cell:/c%3A/Users/silvh/OneDrive/lighthouse/portfolio-projects/AI-content/notebooks/2023-11-08%20open%20ai%20api%20testing.ipynb#W6sZmlsZQ%3D%3D?line=41'>42</a>\u001b[0m \u001b[39mif\u001b[39;00m response\u001b[39m.\u001b[39mchoices[\u001b[39m0\u001b[39m]\u001b[39m.\u001b[39mtext:\n\u001b[0;32m     <a href='vscode-notebook-cell:/c%3A/Users/silvh/OneDrive/lighthouse/portfolio-projects/AI-content/notebooks/2023-11-08%20open%20ai%20api%20testing.ipynb#W6sZmlsZQ%3D%3D?line=42'>43</a>\u001b[0m     \u001b[39mprint\u001b[39m(\u001b[39m'\u001b[39m\u001b[39mTime completed:\u001b[39m\u001b[39m'\u001b[39m, datetime\u001b[39m.\u001b[39mnow())\n",
      "File \u001b[1;32mc:\\Users\\silvh\\.conda\\envs\\projects\\Lib\\site-packages\\openai\\api_resources\\completion.py:25\u001b[0m, in \u001b[0;36mCompletion.create\u001b[1;34m(cls, *args, **kwargs)\u001b[0m\n\u001b[0;32m     23\u001b[0m \u001b[39mwhile\u001b[39;00m \u001b[39mTrue\u001b[39;00m:\n\u001b[0;32m     24\u001b[0m     \u001b[39mtry\u001b[39;00m:\n\u001b[1;32m---> 25\u001b[0m         \u001b[39mreturn\u001b[39;00m \u001b[39msuper\u001b[39m()\u001b[39m.\u001b[39mcreate(\u001b[39m*\u001b[39margs, \u001b[39m*\u001b[39m\u001b[39m*\u001b[39mkwargs)\n\u001b[0;32m     26\u001b[0m     \u001b[39mexcept\u001b[39;00m TryAgain \u001b[39mas\u001b[39;00m e:\n\u001b[0;32m     27\u001b[0m         \u001b[39mif\u001b[39;00m timeout \u001b[39mis\u001b[39;00m \u001b[39mnot\u001b[39;00m \u001b[39mNone\u001b[39;00m \u001b[39mand\u001b[39;00m time\u001b[39m.\u001b[39mtime() \u001b[39m>\u001b[39m start \u001b[39m+\u001b[39m timeout:\n",
      "File \u001b[1;32mc:\\Users\\silvh\\.conda\\envs\\projects\\Lib\\site-packages\\openai\\api_resources\\abstract\\engine_api_resource.py:153\u001b[0m, in \u001b[0;36mEngineAPIResource.create\u001b[1;34m(cls, api_key, api_base, api_type, request_id, api_version, organization, **params)\u001b[0m\n\u001b[0;32m    127\u001b[0m \u001b[39m@classmethod\u001b[39m\n\u001b[0;32m    128\u001b[0m \u001b[39mdef\u001b[39;00m \u001b[39mcreate\u001b[39m(\n\u001b[0;32m    129\u001b[0m     \u001b[39mcls\u001b[39m,\n\u001b[1;32m   (...)\u001b[0m\n\u001b[0;32m    136\u001b[0m     \u001b[39m*\u001b[39m\u001b[39m*\u001b[39mparams,\n\u001b[0;32m    137\u001b[0m ):\n\u001b[0;32m    138\u001b[0m     (\n\u001b[0;32m    139\u001b[0m         deployment_id,\n\u001b[0;32m    140\u001b[0m         engine,\n\u001b[1;32m   (...)\u001b[0m\n\u001b[0;32m    150\u001b[0m         api_key, api_base, api_type, api_version, organization, \u001b[39m*\u001b[39m\u001b[39m*\u001b[39mparams\n\u001b[0;32m    151\u001b[0m     )\n\u001b[1;32m--> 153\u001b[0m     response, _, api_key \u001b[39m=\u001b[39m requestor\u001b[39m.\u001b[39mrequest(\n\u001b[0;32m    154\u001b[0m         \u001b[39m\"\u001b[39m\u001b[39mpost\u001b[39m\u001b[39m\"\u001b[39m,\n\u001b[0;32m    155\u001b[0m         url,\n\u001b[0;32m    156\u001b[0m         params\u001b[39m=\u001b[39mparams,\n\u001b[0;32m    157\u001b[0m         headers\u001b[39m=\u001b[39mheaders,\n\u001b[0;32m    158\u001b[0m         stream\u001b[39m=\u001b[39mstream,\n\u001b[0;32m    159\u001b[0m         request_id\u001b[39m=\u001b[39mrequest_id,\n\u001b[0;32m    160\u001b[0m         request_timeout\u001b[39m=\u001b[39mrequest_timeout,\n\u001b[0;32m    161\u001b[0m     )\n\u001b[0;32m    163\u001b[0m     \u001b[39mif\u001b[39;00m stream:\n\u001b[0;32m    164\u001b[0m         \u001b[39m# must be an iterator\u001b[39;00m\n\u001b[0;32m    165\u001b[0m         \u001b[39massert\u001b[39;00m \u001b[39mnot\u001b[39;00m \u001b[39misinstance\u001b[39m(response, OpenAIResponse)\n",
      "File \u001b[1;32mc:\\Users\\silvh\\.conda\\envs\\projects\\Lib\\site-packages\\openai\\api_requestor.py:226\u001b[0m, in \u001b[0;36mAPIRequestor.request\u001b[1;34m(self, method, url, params, headers, files, stream, request_id, request_timeout)\u001b[0m\n\u001b[0;32m    205\u001b[0m \u001b[39mdef\u001b[39;00m \u001b[39mrequest\u001b[39m(\n\u001b[0;32m    206\u001b[0m     \u001b[39mself\u001b[39m,\n\u001b[0;32m    207\u001b[0m     method,\n\u001b[1;32m   (...)\u001b[0m\n\u001b[0;32m    214\u001b[0m     request_timeout: Optional[Union[\u001b[39mfloat\u001b[39m, Tuple[\u001b[39mfloat\u001b[39m, \u001b[39mfloat\u001b[39m]]] \u001b[39m=\u001b[39m \u001b[39mNone\u001b[39;00m,\n\u001b[0;32m    215\u001b[0m ) \u001b[39m-\u001b[39m\u001b[39m>\u001b[39m Tuple[Union[OpenAIResponse, Iterator[OpenAIResponse]], \u001b[39mbool\u001b[39m, \u001b[39mstr\u001b[39m]:\n\u001b[0;32m    216\u001b[0m     result \u001b[39m=\u001b[39m \u001b[39mself\u001b[39m\u001b[39m.\u001b[39mrequest_raw(\n\u001b[0;32m    217\u001b[0m         method\u001b[39m.\u001b[39mlower(),\n\u001b[0;32m    218\u001b[0m         url,\n\u001b[1;32m   (...)\u001b[0m\n\u001b[0;32m    224\u001b[0m         request_timeout\u001b[39m=\u001b[39mrequest_timeout,\n\u001b[0;32m    225\u001b[0m     )\n\u001b[1;32m--> 226\u001b[0m     resp, got_stream \u001b[39m=\u001b[39m \u001b[39mself\u001b[39m\u001b[39m.\u001b[39m_interpret_response(result, stream)\n\u001b[0;32m    227\u001b[0m     \u001b[39mreturn\u001b[39;00m resp, got_stream, \u001b[39mself\u001b[39m\u001b[39m.\u001b[39mapi_key\n",
      "File \u001b[1;32mc:\\Users\\silvh\\.conda\\envs\\projects\\Lib\\site-packages\\openai\\api_requestor.py:620\u001b[0m, in \u001b[0;36mAPIRequestor._interpret_response\u001b[1;34m(self, result, stream)\u001b[0m\n\u001b[0;32m    612\u001b[0m     \u001b[39mreturn\u001b[39;00m (\n\u001b[0;32m    613\u001b[0m         \u001b[39mself\u001b[39m\u001b[39m.\u001b[39m_interpret_response_line(\n\u001b[0;32m    614\u001b[0m             line, result\u001b[39m.\u001b[39mstatus_code, result\u001b[39m.\u001b[39mheaders, stream\u001b[39m=\u001b[39m\u001b[39mTrue\u001b[39;00m\n\u001b[0;32m    615\u001b[0m         )\n\u001b[0;32m    616\u001b[0m         \u001b[39mfor\u001b[39;00m line \u001b[39min\u001b[39;00m parse_stream(result\u001b[39m.\u001b[39miter_lines())\n\u001b[0;32m    617\u001b[0m     ), \u001b[39mTrue\u001b[39;00m\n\u001b[0;32m    618\u001b[0m \u001b[39melse\u001b[39;00m:\n\u001b[0;32m    619\u001b[0m     \u001b[39mreturn\u001b[39;00m (\n\u001b[1;32m--> 620\u001b[0m         \u001b[39mself\u001b[39m\u001b[39m.\u001b[39m_interpret_response_line(\n\u001b[0;32m    621\u001b[0m             result\u001b[39m.\u001b[39mcontent\u001b[39m.\u001b[39mdecode(\u001b[39m\"\u001b[39m\u001b[39mutf-8\u001b[39m\u001b[39m\"\u001b[39m),\n\u001b[0;32m    622\u001b[0m             result\u001b[39m.\u001b[39mstatus_code,\n\u001b[0;32m    623\u001b[0m             result\u001b[39m.\u001b[39mheaders,\n\u001b[0;32m    624\u001b[0m             stream\u001b[39m=\u001b[39m\u001b[39mFalse\u001b[39;00m,\n\u001b[0;32m    625\u001b[0m         ),\n\u001b[0;32m    626\u001b[0m         \u001b[39mFalse\u001b[39;00m,\n\u001b[0;32m    627\u001b[0m     )\n",
      "File \u001b[1;32mc:\\Users\\silvh\\.conda\\envs\\projects\\Lib\\site-packages\\openai\\api_requestor.py:683\u001b[0m, in \u001b[0;36mAPIRequestor._interpret_response_line\u001b[1;34m(self, rbody, rcode, rheaders, stream)\u001b[0m\n\u001b[0;32m    681\u001b[0m stream_error \u001b[39m=\u001b[39m stream \u001b[39mand\u001b[39;00m \u001b[39m\"\u001b[39m\u001b[39merror\u001b[39m\u001b[39m\"\u001b[39m \u001b[39min\u001b[39;00m resp\u001b[39m.\u001b[39mdata\n\u001b[0;32m    682\u001b[0m \u001b[39mif\u001b[39;00m stream_error \u001b[39mor\u001b[39;00m \u001b[39mnot\u001b[39;00m \u001b[39m200\u001b[39m \u001b[39m<\u001b[39m\u001b[39m=\u001b[39m rcode \u001b[39m<\u001b[39m \u001b[39m300\u001b[39m:\n\u001b[1;32m--> 683\u001b[0m     \u001b[39mraise\u001b[39;00m \u001b[39mself\u001b[39m\u001b[39m.\u001b[39mhandle_error_response(\n\u001b[0;32m    684\u001b[0m         rbody, rcode, resp\u001b[39m.\u001b[39mdata, rheaders, stream_error\u001b[39m=\u001b[39mstream_error\n\u001b[0;32m    685\u001b[0m     )\n\u001b[0;32m    686\u001b[0m \u001b[39mreturn\u001b[39;00m resp\n",
      "\u001b[1;31mInvalidRequestError\u001b[0m: Unrecognized request argument supplied: messages"
     ]
    }
   ],
   "source": [
    "import openai\n",
    "import json\n",
    "import IPython\n",
    "from datetime import datetime\n",
    "def generate_completion(\n",
    "    image_url, history, user_input=None, max_tokens=300, temperature=0.0, model=\"gpt-3.5-turbo\"\n",
    "    ):\n",
    "    if user_input == None:\n",
    "        user_input = \"What's in this image?\"\n",
    "    if model == None:\n",
    "        model = 'gpt-3.5-turbo'\n",
    "    vision_models = ['gpt-4-vision-preview']\n",
    "    if model in vision_models:\n",
    "        print('Image input.')\n",
    "        messages = [{\n",
    "            \"role\": \"user\",\n",
    "            \"content\": [{\n",
    "                \"type\": \"text\", \n",
    "                \"text\": user_input\n",
    "            },\n",
    "            {\n",
    "                \"type\": \"image_url\",\n",
    "                \"image_url\": image_url,\n",
    "            }],\n",
    "        }]\n",
    "    else:\n",
    "        messages=[{\n",
    "            \"role\": \"user\",\n",
    "            \"content\": user_input\n",
    "        }]\n",
    "        \n",
    "    response = openai.Completion.create(\n",
    "        model=model,\n",
    "        messages=messages,\n",
    "        max_tokens=max_tokens,\n",
    "        temperature=temperature,\n",
    "        n=1,\n",
    "        frequency_penalty=0,\n",
    "        presence_penalty=0\n",
    "    )\n",
    "\n",
    "    if response.choices[0].text:\n",
    "        print('Time completed:', datetime.now())\n",
    "        response_string = response.choices[0].text.strip()\n",
    "        try:\n",
    "            history['prompt'].append(prompt)\n",
    "            history['response_text'].append(response_string)\n",
    "            history['response'].append(response)\n",
    "            history['response_MD'].append(IPython.display.Markdown(response_string))\n",
    "        except:\n",
    "            history['prompt'] = [prompt]\n",
    "            history['response_text'] = [response_string]\n",
    "            history['response'] = [response]\n",
    "            history['response_MD'] = [IPython.display.Markdown(response_string)]\n",
    "        return history\n",
    "    else:\n",
    "        return response\n",
    "\n",
    "image_url = 'https://1drv.ms/i/s!ApTIpYMcXzSTguIs6Y8VrhdqH-wnwA?e=4EotGX'\n",
    "user_input = \"what is today's date?\"\n",
    "# user_input = \"What's in this image?\"\n",
    "# model = 'gpt-4-vision-preview'\n",
    "model = None\n",
    "history = generate_completion(image_url, history_dict, model=model)\n",
    "\n"
   ]
  },
  {
   "cell_type": "markdown",
   "metadata": {},
   "source": [
    "## 1.2"
   ]
  },
  {
   "cell_type": "code",
   "execution_count": 21,
   "metadata": {},
   "outputs": [
    {
     "ename": "ImportError",
     "evalue": "cannot import name 'OpenAI' from 'openai' (c:\\Users\\silvh\\.conda\\envs\\projects\\Lib\\site-packages\\openai\\__init__.py)",
     "output_type": "error",
     "traceback": [
      "\u001b[1;31m---------------------------------------------------------------------------\u001b[0m",
      "\u001b[1;31mImportError\u001b[0m                               Traceback (most recent call last)",
      "\u001b[1;32mc:\\Users\\silvh\\OneDrive\\lighthouse\\portfolio-projects\\AI-content\\notebooks\\2023-11-08 open ai api testing.ipynb Cell 17\u001b[0m line \u001b[0;36m1\n\u001b[1;32m----> <a href='vscode-notebook-cell:/c%3A/Users/silvh/OneDrive/lighthouse/portfolio-projects/AI-content/notebooks/2023-11-08%20open%20ai%20api%20testing.ipynb#X45sZmlsZQ%3D%3D?line=0'>1</a>\u001b[0m \u001b[39mfrom\u001b[39;00m  \u001b[39mopenai\u001b[39;00m \u001b[39mimport\u001b[39;00m OpenAI\n\u001b[0;32m      <a href='vscode-notebook-cell:/c%3A/Users/silvh/OneDrive/lighthouse/portfolio-projects/AI-content/notebooks/2023-11-08%20open%20ai%20api%20testing.ipynb#X45sZmlsZQ%3D%3D?line=1'>2</a>\u001b[0m \u001b[39mimport\u001b[39;00m \u001b[39mjson\u001b[39;00m\n\u001b[0;32m      <a href='vscode-notebook-cell:/c%3A/Users/silvh/OneDrive/lighthouse/portfolio-projects/AI-content/notebooks/2023-11-08%20open%20ai%20api%20testing.ipynb#X45sZmlsZQ%3D%3D?line=2'>3</a>\u001b[0m \u001b[39mimport\u001b[39;00m \u001b[39mIPython\u001b[39;00m\n",
      "\u001b[1;31mImportError\u001b[0m: cannot import name 'OpenAI' from 'openai' (c:\\Users\\silvh\\.conda\\envs\\projects\\Lib\\site-packages\\openai\\__init__.py)"
     ]
    }
   ],
   "source": [
    "from  openai import OpenAI\n",
    "import json\n",
    "import IPython\n",
    "from datetime import datetime\n",
    "def generate_completion(\n",
    "    image_url, history, user_input=None, max_tokens=300, temperature=0.0, model=\"gpt-3.5-turbo\"\n",
    "    ):\n",
    "    if user_input == None:\n",
    "        user_input = \"What's in this image?\"\n",
    "    if model == None:\n",
    "        model = 'gpt-3.5-turbo'\n",
    "    vision_models = ['gpt-4-vision-preview']\n",
    "    if model in vision_models:\n",
    "        print('Image input.')\n",
    "        messages = [{\n",
    "            \"role\": \"user\",\n",
    "            \"content\": [{\n",
    "                \"type\": \"text\", \n",
    "                \"text\": user_input\n",
    "            },\n",
    "            {\n",
    "                \"type\": \"image_url\",\n",
    "                \"image_url\": image_url,\n",
    "            }],\n",
    "        }]\n",
    "    else:\n",
    "        messages=[{\n",
    "            \"role\": \"user\",\n",
    "            \"content\": user_input\n",
    "        }]\n",
    "    client = openai.OpenAI()\n",
    "    response = client.chat.Completion.create(\n",
    "        model=model,\n",
    "        messages=messages,\n",
    "        max_tokens=max_tokens,\n",
    "        temperature=temperature,\n",
    "        n=1,\n",
    "        frequency_penalty=0,\n",
    "        presence_penalty=0\n",
    "    )\n",
    "\n",
    "    if response.choices[0].text:\n",
    "        print('Time completed:', datetime.now())\n",
    "        response_string = response.choices[0].text.strip()\n",
    "        try:\n",
    "            history['prompt'].append(prompt)\n",
    "            history['response_text'].append(response_string)\n",
    "            history['response'].append(response)\n",
    "            history['response_MD'].append(IPython.display.Markdown(response_string))\n",
    "        except:\n",
    "            history['prompt'] = [prompt]\n",
    "            history['response_text'] = [response_string]\n",
    "            history['response'] = [response]\n",
    "            history['response_MD'] = [IPython.display.Markdown(response_string)]\n",
    "        return history\n",
    "    else:\n",
    "        return response\n",
    "\n",
    "image_url = 'https://1drv.ms/i/s!ApTIpYMcXzSTguIs6Y8VrhdqH-wnwA?e=4EotGX'\n",
    "user_input = \"what is today's date?\"\n",
    "# user_input = \"What's in this image?\"\n",
    "# model = 'gpt-4-vision-preview'\n",
    "model = None\n",
    "history = generate_completion(image_url, history_dict, model=model)\n",
    "\n"
   ]
  },
  {
   "cell_type": "markdown",
   "metadata": {},
   "source": [
    "### 1.21 after upgrade openai and refreshing kernel"
   ]
  },
  {
   "cell_type": "code",
   "execution_count": 5,
   "metadata": {},
   "outputs": [
    {
     "ename": "AttributeError",
     "evalue": "'Choice' object has no attribute 'text'",
     "output_type": "error",
     "traceback": [
      "\u001b[1;31m---------------------------------------------------------------------------\u001b[0m",
      "\u001b[1;31mKeyError\u001b[0m                                  Traceback (most recent call last)",
      "File \u001b[1;32mc:\\Users\\silvh\\.conda\\envs\\projects\\Lib\\site-packages\\pydantic\\main.py:726\u001b[0m, in \u001b[0;36mBaseModel.__getattr__\u001b[1;34m(self, item)\u001b[0m\n\u001b[0;32m    725\u001b[0m \u001b[39mtry\u001b[39;00m:\n\u001b[1;32m--> 726\u001b[0m     \u001b[39mreturn\u001b[39;00m pydantic_extra[item]\n\u001b[0;32m    727\u001b[0m \u001b[39mexcept\u001b[39;00m \u001b[39mKeyError\u001b[39;00m \u001b[39mas\u001b[39;00m exc:\n",
      "\u001b[1;31mKeyError\u001b[0m: 'text'",
      "\nThe above exception was the direct cause of the following exception:\n",
      "\u001b[1;31mAttributeError\u001b[0m                            Traceback (most recent call last)",
      "\u001b[1;32mc:\\Users\\silvh\\OneDrive\\lighthouse\\portfolio-projects\\AI-content\\notebooks\\2023-11-08 open ai api testing.ipynb Cell 19\u001b[0m line \u001b[0;36m6\n\u001b[0;32m     <a href='vscode-notebook-cell:/c%3A/Users/silvh/OneDrive/lighthouse/portfolio-projects/AI-content/notebooks/2023-11-08%20open%20ai%20api%20testing.ipynb#X10sZmlsZQ%3D%3D?line=60'>61</a>\u001b[0m \u001b[39m# user_input = \"What's in this image?\"\u001b[39;00m\n\u001b[0;32m     <a href='vscode-notebook-cell:/c%3A/Users/silvh/OneDrive/lighthouse/portfolio-projects/AI-content/notebooks/2023-11-08%20open%20ai%20api%20testing.ipynb#X10sZmlsZQ%3D%3D?line=61'>62</a>\u001b[0m \u001b[39m# model = 'gpt-4-vision-preview'\u001b[39;00m\n\u001b[0;32m     <a href='vscode-notebook-cell:/c%3A/Users/silvh/OneDrive/lighthouse/portfolio-projects/AI-content/notebooks/2023-11-08%20open%20ai%20api%20testing.ipynb#X10sZmlsZQ%3D%3D?line=62'>63</a>\u001b[0m model \u001b[39m=\u001b[39m \u001b[39mNone\u001b[39;00m\n\u001b[1;32m---> <a href='vscode-notebook-cell:/c%3A/Users/silvh/OneDrive/lighthouse/portfolio-projects/AI-content/notebooks/2023-11-08%20open%20ai%20api%20testing.ipynb#X10sZmlsZQ%3D%3D?line=63'>64</a>\u001b[0m history \u001b[39m=\u001b[39m generate_completion(image_url, history_dict, model\u001b[39m=\u001b[39mmodel)\n",
      "\u001b[1;32mc:\\Users\\silvh\\OneDrive\\lighthouse\\portfolio-projects\\AI-content\\notebooks\\2023-11-08 open ai api testing.ipynb Cell 19\u001b[0m line \u001b[0;36m4\n\u001b[0;32m     <a href='vscode-notebook-cell:/c%3A/Users/silvh/OneDrive/lighthouse/portfolio-projects/AI-content/notebooks/2023-11-08%20open%20ai%20api%20testing.ipynb#X10sZmlsZQ%3D%3D?line=30'>31</a>\u001b[0m client \u001b[39m=\u001b[39m OpenAI()\n\u001b[0;32m     <a href='vscode-notebook-cell:/c%3A/Users/silvh/OneDrive/lighthouse/portfolio-projects/AI-content/notebooks/2023-11-08%20open%20ai%20api%20testing.ipynb#X10sZmlsZQ%3D%3D?line=31'>32</a>\u001b[0m response \u001b[39m=\u001b[39m client\u001b[39m.\u001b[39mchat\u001b[39m.\u001b[39mcompletions\u001b[39m.\u001b[39mcreate(\n\u001b[0;32m     <a href='vscode-notebook-cell:/c%3A/Users/silvh/OneDrive/lighthouse/portfolio-projects/AI-content/notebooks/2023-11-08%20open%20ai%20api%20testing.ipynb#X10sZmlsZQ%3D%3D?line=32'>33</a>\u001b[0m     model\u001b[39m=\u001b[39mmodel,\n\u001b[0;32m     <a href='vscode-notebook-cell:/c%3A/Users/silvh/OneDrive/lighthouse/portfolio-projects/AI-content/notebooks/2023-11-08%20open%20ai%20api%20testing.ipynb#X10sZmlsZQ%3D%3D?line=33'>34</a>\u001b[0m     messages\u001b[39m=\u001b[39mmessages,\n\u001b[1;32m   (...)\u001b[0m\n\u001b[0;32m     <a href='vscode-notebook-cell:/c%3A/Users/silvh/OneDrive/lighthouse/portfolio-projects/AI-content/notebooks/2023-11-08%20open%20ai%20api%20testing.ipynb#X10sZmlsZQ%3D%3D?line=38'>39</a>\u001b[0m     presence_penalty\u001b[39m=\u001b[39m\u001b[39m0\u001b[39m\n\u001b[0;32m     <a href='vscode-notebook-cell:/c%3A/Users/silvh/OneDrive/lighthouse/portfolio-projects/AI-content/notebooks/2023-11-08%20open%20ai%20api%20testing.ipynb#X10sZmlsZQ%3D%3D?line=39'>40</a>\u001b[0m )\n\u001b[1;32m---> <a href='vscode-notebook-cell:/c%3A/Users/silvh/OneDrive/lighthouse/portfolio-projects/AI-content/notebooks/2023-11-08%20open%20ai%20api%20testing.ipynb#X10sZmlsZQ%3D%3D?line=41'>42</a>\u001b[0m \u001b[39mif\u001b[39;00m response\u001b[39m.\u001b[39mchoices[\u001b[39m0\u001b[39m]\u001b[39m.\u001b[39mtext:\n\u001b[0;32m     <a href='vscode-notebook-cell:/c%3A/Users/silvh/OneDrive/lighthouse/portfolio-projects/AI-content/notebooks/2023-11-08%20open%20ai%20api%20testing.ipynb#X10sZmlsZQ%3D%3D?line=42'>43</a>\u001b[0m     \u001b[39mprint\u001b[39m(\u001b[39m'\u001b[39m\u001b[39mTime completed:\u001b[39m\u001b[39m'\u001b[39m, datetime\u001b[39m.\u001b[39mnow())\n\u001b[0;32m     <a href='vscode-notebook-cell:/c%3A/Users/silvh/OneDrive/lighthouse/portfolio-projects/AI-content/notebooks/2023-11-08%20open%20ai%20api%20testing.ipynb#X10sZmlsZQ%3D%3D?line=43'>44</a>\u001b[0m     response_string \u001b[39m=\u001b[39m response\u001b[39m.\u001b[39mchoices[\u001b[39m0\u001b[39m]\u001b[39m.\u001b[39mtext\u001b[39m.\u001b[39mstrip()\n",
      "File \u001b[1;32mc:\\Users\\silvh\\.conda\\envs\\projects\\Lib\\site-packages\\pydantic\\main.py:728\u001b[0m, in \u001b[0;36mBaseModel.__getattr__\u001b[1;34m(self, item)\u001b[0m\n\u001b[0;32m    726\u001b[0m         \u001b[39mreturn\u001b[39;00m pydantic_extra[item]\n\u001b[0;32m    727\u001b[0m     \u001b[39mexcept\u001b[39;00m \u001b[39mKeyError\u001b[39;00m \u001b[39mas\u001b[39;00m exc:\n\u001b[1;32m--> 728\u001b[0m         \u001b[39mraise\u001b[39;00m \u001b[39mAttributeError\u001b[39;00m(\u001b[39mf\u001b[39m\u001b[39m'\u001b[39m\u001b[39m{\u001b[39;00m\u001b[39mtype\u001b[39m(\u001b[39mself\u001b[39m)\u001b[39m.\u001b[39m\u001b[39m__name__\u001b[39m\u001b[39m!r}\u001b[39;00m\u001b[39m object has no attribute \u001b[39m\u001b[39m{\u001b[39;00mitem\u001b[39m!r}\u001b[39;00m\u001b[39m'\u001b[39m) \u001b[39mfrom\u001b[39;00m \u001b[39mexc\u001b[39;00m\n\u001b[0;32m    729\u001b[0m \u001b[39melse\u001b[39;00m:\n\u001b[0;32m    730\u001b[0m     \u001b[39mif\u001b[39;00m \u001b[39mhasattr\u001b[39m(\u001b[39mself\u001b[39m\u001b[39m.\u001b[39m\u001b[39m__class__\u001b[39m, item):\n",
      "\u001b[1;31mAttributeError\u001b[0m: 'Choice' object has no attribute 'text'"
     ]
    }
   ],
   "source": [
    "from  openai import OpenAI\n",
    "import json\n",
    "import IPython\n",
    "from datetime import datetime\n",
    "def generate_completion(\n",
    "    image_url, history, user_input=None, max_tokens=300, temperature=0.0, model=\"gpt-3.5-turbo\"\n",
    "    ):\n",
    "    if user_input == None:\n",
    "        user_input = \"What's in this image?\"\n",
    "    if model == None:\n",
    "        model = 'gpt-3.5-turbo'\n",
    "    vision_models = ['gpt-4-vision-preview']\n",
    "    if model in vision_models:\n",
    "        print('Image input.')\n",
    "        messages = [{\n",
    "            \"role\": \"user\",\n",
    "            \"content\": [{\n",
    "                \"type\": \"text\", \n",
    "                \"text\": user_input\n",
    "            },\n",
    "            {\n",
    "                \"type\": \"image_url\",\n",
    "                \"image_url\": image_url,\n",
    "            }],\n",
    "        }]\n",
    "    else:\n",
    "        messages=[{\n",
    "            \"role\": \"user\",\n",
    "            \"content\": user_input\n",
    "        }]\n",
    "    client = OpenAI()\n",
    "    response = client.chat.completions.create(\n",
    "        model=model,\n",
    "        messages=messages,\n",
    "        max_tokens=max_tokens,\n",
    "        temperature=temperature,\n",
    "        n=1,\n",
    "        frequency_penalty=0,\n",
    "        presence_penalty=0\n",
    "    )\n",
    "\n",
    "    if response.choices[0].text:\n",
    "        print('Time completed:', datetime.now())\n",
    "        response_string = response.choices[0].text.strip()\n",
    "        try:\n",
    "            history['prompt'].append(prompt)\n",
    "            history['response_text'].append(response_string)\n",
    "            history['response'].append(response)\n",
    "            history['response_MD'].append(IPython.display.Markdown(response_string))\n",
    "        except:\n",
    "            history['prompt'] = [prompt]\n",
    "            history['response_text'] = [response_string]\n",
    "            history['response'] = [response]\n",
    "            history['response_MD'] = [IPython.display.Markdown(response_string)]\n",
    "        return history\n",
    "    else:\n",
    "        return response\n",
    "\n",
    "image_url = 'https://1drv.ms/i/s!ApTIpYMcXzSTguIs6Y8VrhdqH-wnwA?e=4EotGX'\n",
    "user_input = \"what is today's date?\"\n",
    "# user_input = \"What's in this image?\"\n",
    "# model = 'gpt-4-vision-preview'\n",
    "model = None\n",
    "history = generate_completion(image_url, history_dict, model=model)\n",
    "\n"
   ]
  },
  {
   "cell_type": "markdown",
   "metadata": {},
   "source": [
    "## 1.3"
   ]
  },
  {
   "cell_type": "code",
   "execution_count": 6,
   "metadata": {},
   "outputs": [
    {
     "name": "stdout",
     "output_type": "stream",
     "text": [
      "Time completed: 2023-11-08 05:25:42.720784\n"
     ]
    },
    {
     "ename": "AttributeError",
     "evalue": "'Choice' object has no attribute 'text'",
     "output_type": "error",
     "traceback": [
      "\u001b[1;31m---------------------------------------------------------------------------\u001b[0m",
      "\u001b[1;31mKeyError\u001b[0m                                  Traceback (most recent call last)",
      "File \u001b[1;32mc:\\Users\\silvh\\.conda\\envs\\projects\\Lib\\site-packages\\pydantic\\main.py:726\u001b[0m, in \u001b[0;36mBaseModel.__getattr__\u001b[1;34m(self, item)\u001b[0m\n\u001b[0;32m    725\u001b[0m \u001b[39mtry\u001b[39;00m:\n\u001b[1;32m--> 726\u001b[0m     \u001b[39mreturn\u001b[39;00m pydantic_extra[item]\n\u001b[0;32m    727\u001b[0m \u001b[39mexcept\u001b[39;00m \u001b[39mKeyError\u001b[39;00m \u001b[39mas\u001b[39;00m exc:\n",
      "\u001b[1;31mKeyError\u001b[0m: 'text'",
      "\nThe above exception was the direct cause of the following exception:\n",
      "\u001b[1;31mAttributeError\u001b[0m                            Traceback (most recent call last)",
      "\u001b[1;32mc:\\Users\\silvh\\OneDrive\\lighthouse\\portfolio-projects\\AI-content\\notebooks\\2023-11-08 open ai api testing.ipynb Cell 21\u001b[0m line \u001b[0;36m6\n\u001b[0;32m     <a href='vscode-notebook-cell:/c%3A/Users/silvh/OneDrive/lighthouse/portfolio-projects/AI-content/notebooks/2023-11-08%20open%20ai%20api%20testing.ipynb#X11sZmlsZQ%3D%3D?line=60'>61</a>\u001b[0m \u001b[39m# user_input = \"What's in this image?\"\u001b[39;00m\n\u001b[0;32m     <a href='vscode-notebook-cell:/c%3A/Users/silvh/OneDrive/lighthouse/portfolio-projects/AI-content/notebooks/2023-11-08%20open%20ai%20api%20testing.ipynb#X11sZmlsZQ%3D%3D?line=61'>62</a>\u001b[0m \u001b[39m# model = 'gpt-4-vision-preview'\u001b[39;00m\n\u001b[0;32m     <a href='vscode-notebook-cell:/c%3A/Users/silvh/OneDrive/lighthouse/portfolio-projects/AI-content/notebooks/2023-11-08%20open%20ai%20api%20testing.ipynb#X11sZmlsZQ%3D%3D?line=62'>63</a>\u001b[0m model \u001b[39m=\u001b[39m \u001b[39mNone\u001b[39;00m\n\u001b[1;32m---> <a href='vscode-notebook-cell:/c%3A/Users/silvh/OneDrive/lighthouse/portfolio-projects/AI-content/notebooks/2023-11-08%20open%20ai%20api%20testing.ipynb#X11sZmlsZQ%3D%3D?line=63'>64</a>\u001b[0m history \u001b[39m=\u001b[39m generate_completion(image_url, history_dict, model\u001b[39m=\u001b[39mmodel)\n",
      "\u001b[1;32mc:\\Users\\silvh\\OneDrive\\lighthouse\\portfolio-projects\\AI-content\\notebooks\\2023-11-08 open ai api testing.ipynb Cell 21\u001b[0m line \u001b[0;36m4\n\u001b[0;32m     <a href='vscode-notebook-cell:/c%3A/Users/silvh/OneDrive/lighthouse/portfolio-projects/AI-content/notebooks/2023-11-08%20open%20ai%20api%20testing.ipynb#X11sZmlsZQ%3D%3D?line=41'>42</a>\u001b[0m \u001b[39mif\u001b[39;00m \u001b[39mlen\u001b[39m(response\u001b[39m.\u001b[39mchoices) \u001b[39m>\u001b[39m \u001b[39m0\u001b[39m:\n\u001b[0;32m     <a href='vscode-notebook-cell:/c%3A/Users/silvh/OneDrive/lighthouse/portfolio-projects/AI-content/notebooks/2023-11-08%20open%20ai%20api%20testing.ipynb#X11sZmlsZQ%3D%3D?line=42'>43</a>\u001b[0m     \u001b[39mprint\u001b[39m(\u001b[39m'\u001b[39m\u001b[39mTime completed:\u001b[39m\u001b[39m'\u001b[39m, datetime\u001b[39m.\u001b[39mnow())\n\u001b[1;32m---> <a href='vscode-notebook-cell:/c%3A/Users/silvh/OneDrive/lighthouse/portfolio-projects/AI-content/notebooks/2023-11-08%20open%20ai%20api%20testing.ipynb#X11sZmlsZQ%3D%3D?line=43'>44</a>\u001b[0m     response_string \u001b[39m=\u001b[39m response\u001b[39m.\u001b[39mchoices[\u001b[39m0\u001b[39m]\u001b[39m.\u001b[39mtext\u001b[39m.\u001b[39mstrip()\n\u001b[0;32m     <a href='vscode-notebook-cell:/c%3A/Users/silvh/OneDrive/lighthouse/portfolio-projects/AI-content/notebooks/2023-11-08%20open%20ai%20api%20testing.ipynb#X11sZmlsZQ%3D%3D?line=44'>45</a>\u001b[0m     \u001b[39mtry\u001b[39;00m:\n\u001b[0;32m     <a href='vscode-notebook-cell:/c%3A/Users/silvh/OneDrive/lighthouse/portfolio-projects/AI-content/notebooks/2023-11-08%20open%20ai%20api%20testing.ipynb#X11sZmlsZQ%3D%3D?line=45'>46</a>\u001b[0m         history[\u001b[39m'\u001b[39m\u001b[39mprompt\u001b[39m\u001b[39m'\u001b[39m]\u001b[39m.\u001b[39mappend(prompt)\n",
      "File \u001b[1;32mc:\\Users\\silvh\\.conda\\envs\\projects\\Lib\\site-packages\\pydantic\\main.py:728\u001b[0m, in \u001b[0;36mBaseModel.__getattr__\u001b[1;34m(self, item)\u001b[0m\n\u001b[0;32m    726\u001b[0m         \u001b[39mreturn\u001b[39;00m pydantic_extra[item]\n\u001b[0;32m    727\u001b[0m     \u001b[39mexcept\u001b[39;00m \u001b[39mKeyError\u001b[39;00m \u001b[39mas\u001b[39;00m exc:\n\u001b[1;32m--> 728\u001b[0m         \u001b[39mraise\u001b[39;00m \u001b[39mAttributeError\u001b[39;00m(\u001b[39mf\u001b[39m\u001b[39m'\u001b[39m\u001b[39m{\u001b[39;00m\u001b[39mtype\u001b[39m(\u001b[39mself\u001b[39m)\u001b[39m.\u001b[39m\u001b[39m__name__\u001b[39m\u001b[39m!r}\u001b[39;00m\u001b[39m object has no attribute \u001b[39m\u001b[39m{\u001b[39;00mitem\u001b[39m!r}\u001b[39;00m\u001b[39m'\u001b[39m) \u001b[39mfrom\u001b[39;00m \u001b[39mexc\u001b[39;00m\n\u001b[0;32m    729\u001b[0m \u001b[39melse\u001b[39;00m:\n\u001b[0;32m    730\u001b[0m     \u001b[39mif\u001b[39;00m \u001b[39mhasattr\u001b[39m(\u001b[39mself\u001b[39m\u001b[39m.\u001b[39m\u001b[39m__class__\u001b[39m, item):\n",
      "\u001b[1;31mAttributeError\u001b[0m: 'Choice' object has no attribute 'text'"
     ]
    }
   ],
   "source": [
    "from  openai import OpenAI\n",
    "import json\n",
    "import IPython\n",
    "from datetime import datetime\n",
    "def generate_completion(\n",
    "    image_url, history, user_input=None, max_tokens=300, temperature=0.0, model=\"gpt-3.5-turbo\"\n",
    "    ):\n",
    "    if user_input == None:\n",
    "        user_input = \"What's in this image?\"\n",
    "    if model == None:\n",
    "        model = 'gpt-3.5-turbo'\n",
    "    vision_models = ['gpt-4-vision-preview']\n",
    "    if model in vision_models:\n",
    "        print('Image input.')\n",
    "        messages = [{\n",
    "            \"role\": \"user\",\n",
    "            \"content\": [{\n",
    "                \"type\": \"text\", \n",
    "                \"text\": user_input\n",
    "            },\n",
    "            {\n",
    "                \"type\": \"image_url\",\n",
    "                \"image_url\": image_url,\n",
    "            }],\n",
    "        }]\n",
    "    else:\n",
    "        messages=[{\n",
    "            \"role\": \"user\",\n",
    "            \"content\": user_input\n",
    "        }]\n",
    "    client = OpenAI()\n",
    "    response = client.chat.completions.create(\n",
    "        model=model,\n",
    "        messages=messages,\n",
    "        max_tokens=max_tokens,\n",
    "        temperature=temperature,\n",
    "        n=1,\n",
    "        frequency_penalty=0,\n",
    "        presence_penalty=0\n",
    "    )\n",
    "\n",
    "    if len(response.choices) > 0:\n",
    "        print('Time completed:', datetime.now())\n",
    "        response_string = response.choices[0].text.strip()\n",
    "        try:\n",
    "            history['prompt'].append(prompt)\n",
    "            history['response_text'].append(response_string)\n",
    "            history['response'].append(response)\n",
    "            history['response_MD'].append(IPython.display.Markdown(response_string))\n",
    "        except:\n",
    "            history['prompt'] = [prompt]\n",
    "            history['response_text'] = [response_string]\n",
    "            history['response'] = [response]\n",
    "            history['response_MD'] = [IPython.display.Markdown(response_string)]\n",
    "        return history\n",
    "    else:\n",
    "        return response\n",
    "\n",
    "image_url = 'https://1drv.ms/i/s!ApTIpYMcXzSTguIs6Y8VrhdqH-wnwA?e=4EotGX'\n",
    "user_input = \"what is today's date?\"\n",
    "# user_input = \"What's in this image?\"\n",
    "# model = 'gpt-4-vision-preview'\n",
    "model = None\n",
    "history = generate_completion(image_url, history_dict, model=model)\n",
    "\n"
   ]
  },
  {
   "cell_type": "markdown",
   "metadata": {},
   "source": [
    "## 1.4"
   ]
  },
  {
   "cell_type": "code",
   "execution_count": 8,
   "metadata": {},
   "outputs": [
    {
     "name": "stdout",
     "output_type": "stream",
     "text": [
      "Time completed: 2023-11-08 05:30:52.502248\n",
      "An error occurred on line 45 in C:\\Users\\silvh\\AppData\\Local\\Temp\\ipykernel_19112\\2382414908.py : 'Choice' object is not subscriptable\n"
     ]
    }
   ],
   "source": [
    "from  openai import OpenAI\n",
    "import json\n",
    "import IPython\n",
    "from datetime import datetime\n",
    "import sys\n",
    "def generate_completion(\n",
    "    image_url, history, user_input=None, max_tokens=300, temperature=0.0, model=\"gpt-3.5-turbo\"\n",
    "    ):\n",
    "    if user_input == None:\n",
    "        user_input = \"What's in this image?\"\n",
    "    if model == None:\n",
    "        model = 'gpt-3.5-turbo'\n",
    "    vision_models = ['gpt-4-vision-preview']\n",
    "    if model in vision_models:\n",
    "        print('Image input.')\n",
    "        messages = [{\n",
    "            \"role\": \"user\",\n",
    "            \"content\": [{\n",
    "                \"type\": \"text\", \n",
    "                \"text\": user_input\n",
    "            },\n",
    "            {\n",
    "                \"type\": \"image_url\",\n",
    "                \"image_url\": image_url,\n",
    "            }],\n",
    "        }]\n",
    "    else:\n",
    "        messages=[{\n",
    "            \"role\": \"user\",\n",
    "            \"content\": user_input\n",
    "        }]\n",
    "    client = OpenAI()\n",
    "    response = client.chat.completions.create(\n",
    "        model=model,\n",
    "        messages=messages,\n",
    "        max_tokens=max_tokens,\n",
    "        temperature=temperature,\n",
    "        n=1,\n",
    "        frequency_penalty=0,\n",
    "        presence_penalty=0\n",
    "    )\n",
    "    try:\n",
    "        if len(response.choices) > 0:\n",
    "            print('Time completed:', datetime.now())\n",
    "            response_string = response.choices[0]['message']['content'].strip()\n",
    "            try:\n",
    "                history['user_input'].append(user_input)\n",
    "                history['response_text'].append(response_string)\n",
    "                history['response'].append(response)\n",
    "                history['response_MD'].append(IPython.display.Markdown(response_string))\n",
    "            except:\n",
    "                history['user_input'] = [user_input]\n",
    "                history['response_text'] = [response_string]\n",
    "                history['response'] = [response]\n",
    "                history['response_MD'] = [IPython.display.Markdown(response_string)]\n",
    "            return history\n",
    "    except Exception as error:\n",
    "        exc_type, exc_obj, tb = sys.exc_info()\n",
    "        f = tb.tb_frame\n",
    "        lineno = tb.tb_lineno\n",
    "        filename = f.f_code.co_filename\n",
    "        print(\"An error occurred on line\", lineno, \"in\", filename, \":\", error)\n",
    "        return response\n",
    "    else:\n",
    "        return response\n",
    "\n",
    "image_url = 'https://1drv.ms/i/s!ApTIpYMcXzSTguIs6Y8VrhdqH-wnwA?e=4EotGX'\n",
    "user_input = \"what is today's date?\"\n",
    "# user_input = \"What's in this image?\"\n",
    "# model = 'gpt-4-vision-preview'\n",
    "model = None\n",
    "history = generate_completion(image_url, history_dict, model=model)\n",
    "\n"
   ]
  },
  {
   "cell_type": "code",
   "execution_count": 9,
   "metadata": {},
   "outputs": [
    {
     "data": {
      "text/plain": [
       "ChatCompletion(id='chatcmpl-8IcvrA39K1HFtewZS3Q7t6PhcbPV0', choices=[Choice(finish_reason='stop', index=0, message=ChatCompletionMessage(content=\"I'm sorry, but as an AI language model, I cannot directly see or analyze images. If you describe the image to me, I can try my best to provide information or answer any questions you may have based on the description.\", role='assistant', function_call=None, tool_calls=None))], created=1699450251, model='gpt-3.5-turbo-0613', object='chat.completion', system_fingerprint=None, usage=CompletionUsage(completion_tokens=47, prompt_tokens=13, total_tokens=60))"
      ]
     },
     "execution_count": 9,
     "metadata": {},
     "output_type": "execute_result"
    }
   ],
   "source": [
    "history"
   ]
  },
  {
   "cell_type": "code",
   "execution_count": 15,
   "metadata": {},
   "outputs": [
    {
     "data": {
      "text/plain": [
       "\"I'm sorry, but as an AI language model, I cannot directly see or analyze images. If you describe the image to me, I can try my best to provide information or answer any questions you may have based on the description.\""
      ]
     },
     "execution_count": 15,
     "metadata": {},
     "output_type": "execute_result"
    }
   ],
   "source": [
    "history.choices[0].message.content"
   ]
  },
  {
   "cell_type": "code",
   "execution_count": 16,
   "metadata": {},
   "outputs": [
    {
     "ename": "AttributeError",
     "evalue": "'str' object has no attribute 'role'",
     "output_type": "error",
     "traceback": [
      "\u001b[1;31m---------------------------------------------------------------------------\u001b[0m",
      "\u001b[1;31mAttributeError\u001b[0m                            Traceback (most recent call last)",
      "\u001b[1;32mc:\\Users\\silvh\\OneDrive\\lighthouse\\portfolio-projects\\AI-content\\notebooks\\2023-11-08 open ai api testing.ipynb Cell 26\u001b[0m line \u001b[0;36m1\n\u001b[1;32m----> <a href='vscode-notebook-cell:/c%3A/Users/silvh/OneDrive/lighthouse/portfolio-projects/AI-content/notebooks/2023-11-08%20open%20ai%20api%20testing.ipynb#X54sZmlsZQ%3D%3D?line=0'>1</a>\u001b[0m history\u001b[39m.\u001b[39mchoices[\u001b[39m0\u001b[39m]\u001b[39m.\u001b[39mmessage\u001b[39m.\u001b[39mcontent\u001b[39m.\u001b[39mrole\n",
      "\u001b[1;31mAttributeError\u001b[0m: 'str' object has no attribute 'role'"
     ]
    }
   ],
   "source": [
    "history.choices[0].message.content.role"
   ]
  },
  {
   "cell_type": "code",
   "execution_count": 17,
   "metadata": {},
   "outputs": [
    {
     "data": {
      "text/plain": [
       "\"what is today's date?\""
      ]
     },
     "execution_count": 17,
     "metadata": {},
     "output_type": "execute_result"
    }
   ],
   "source": [
    "user_input"
   ]
  },
  {
   "cell_type": "markdown",
   "metadata": {},
   "source": [
    "## 1.5"
   ]
  },
  {
   "cell_type": "code",
   "execution_count": 18,
   "metadata": {},
   "outputs": [
    {
     "name": "stdout",
     "output_type": "stream",
     "text": [
      "Image input.\n"
     ]
    },
    {
     "ename": "BadRequestError",
     "evalue": "Error code: 400 - {'error': {'message': \"You uploaded an unsupported image. Please make sure your image is below 20 MB in size and is of one the following formats: ['png', 'jpeg', 'gif', 'webp'].\", 'type': 'invalid_request_error', 'param': None, 'code': 'invalid_image_format'}}",
     "output_type": "error",
     "traceback": [
      "\u001b[1;31m---------------------------------------------------------------------------\u001b[0m",
      "\u001b[1;31mBadRequestError\u001b[0m                           Traceback (most recent call last)",
      "\u001b[1;32mc:\\Users\\silvh\\OneDrive\\lighthouse\\portfolio-projects\\AI-content\\notebooks\\2023-11-08 open ai api testing.ipynb Cell 29\u001b[0m line \u001b[0;36m7\n\u001b[0;32m     <a href='vscode-notebook-cell:/c%3A/Users/silvh/OneDrive/lighthouse/portfolio-projects/AI-content/notebooks/2023-11-08%20open%20ai%20api%20testing.ipynb#X13sZmlsZQ%3D%3D?line=69'>70</a>\u001b[0m model \u001b[39m=\u001b[39m \u001b[39m'\u001b[39m\u001b[39mgpt-4-vision-preview\u001b[39m\u001b[39m'\u001b[39m\n\u001b[0;32m     <a href='vscode-notebook-cell:/c%3A/Users/silvh/OneDrive/lighthouse/portfolio-projects/AI-content/notebooks/2023-11-08%20open%20ai%20api%20testing.ipynb#X13sZmlsZQ%3D%3D?line=70'>71</a>\u001b[0m \u001b[39m# model = None\u001b[39;00m\n\u001b[1;32m---> <a href='vscode-notebook-cell:/c%3A/Users/silvh/OneDrive/lighthouse/portfolio-projects/AI-content/notebooks/2023-11-08%20open%20ai%20api%20testing.ipynb#X13sZmlsZQ%3D%3D?line=71'>72</a>\u001b[0m history \u001b[39m=\u001b[39m generate_completion(image_url, history_dict, user_input\u001b[39m=\u001b[39muser_input, model\u001b[39m=\u001b[39mmodel)\n",
      "\u001b[1;32mc:\\Users\\silvh\\OneDrive\\lighthouse\\portfolio-projects\\AI-content\\notebooks\\2023-11-08 open ai api testing.ipynb Cell 29\u001b[0m line \u001b[0;36m3\n\u001b[0;32m     <a href='vscode-notebook-cell:/c%3A/Users/silvh/OneDrive/lighthouse/portfolio-projects/AI-content/notebooks/2023-11-08%20open%20ai%20api%20testing.ipynb#X13sZmlsZQ%3D%3D?line=27'>28</a>\u001b[0m     messages\u001b[39m=\u001b[39m[{\n\u001b[0;32m     <a href='vscode-notebook-cell:/c%3A/Users/silvh/OneDrive/lighthouse/portfolio-projects/AI-content/notebooks/2023-11-08%20open%20ai%20api%20testing.ipynb#X13sZmlsZQ%3D%3D?line=28'>29</a>\u001b[0m         \u001b[39m\"\u001b[39m\u001b[39mrole\u001b[39m\u001b[39m\"\u001b[39m: \u001b[39m\"\u001b[39m\u001b[39muser\u001b[39m\u001b[39m\"\u001b[39m,\n\u001b[0;32m     <a href='vscode-notebook-cell:/c%3A/Users/silvh/OneDrive/lighthouse/portfolio-projects/AI-content/notebooks/2023-11-08%20open%20ai%20api%20testing.ipynb#X13sZmlsZQ%3D%3D?line=29'>30</a>\u001b[0m         \u001b[39m\"\u001b[39m\u001b[39mcontent\u001b[39m\u001b[39m\"\u001b[39m: user_input\n\u001b[0;32m     <a href='vscode-notebook-cell:/c%3A/Users/silvh/OneDrive/lighthouse/portfolio-projects/AI-content/notebooks/2023-11-08%20open%20ai%20api%20testing.ipynb#X13sZmlsZQ%3D%3D?line=30'>31</a>\u001b[0m     }]\n\u001b[0;32m     <a href='vscode-notebook-cell:/c%3A/Users/silvh/OneDrive/lighthouse/portfolio-projects/AI-content/notebooks/2023-11-08%20open%20ai%20api%20testing.ipynb#X13sZmlsZQ%3D%3D?line=31'>32</a>\u001b[0m client \u001b[39m=\u001b[39m OpenAI()\n\u001b[1;32m---> <a href='vscode-notebook-cell:/c%3A/Users/silvh/OneDrive/lighthouse/portfolio-projects/AI-content/notebooks/2023-11-08%20open%20ai%20api%20testing.ipynb#X13sZmlsZQ%3D%3D?line=32'>33</a>\u001b[0m response \u001b[39m=\u001b[39m client\u001b[39m.\u001b[39mchat\u001b[39m.\u001b[39mcompletions\u001b[39m.\u001b[39mcreate(\n\u001b[0;32m     <a href='vscode-notebook-cell:/c%3A/Users/silvh/OneDrive/lighthouse/portfolio-projects/AI-content/notebooks/2023-11-08%20open%20ai%20api%20testing.ipynb#X13sZmlsZQ%3D%3D?line=33'>34</a>\u001b[0m     model\u001b[39m=\u001b[39mmodel,\n\u001b[0;32m     <a href='vscode-notebook-cell:/c%3A/Users/silvh/OneDrive/lighthouse/portfolio-projects/AI-content/notebooks/2023-11-08%20open%20ai%20api%20testing.ipynb#X13sZmlsZQ%3D%3D?line=34'>35</a>\u001b[0m     messages\u001b[39m=\u001b[39mmessages,\n\u001b[0;32m     <a href='vscode-notebook-cell:/c%3A/Users/silvh/OneDrive/lighthouse/portfolio-projects/AI-content/notebooks/2023-11-08%20open%20ai%20api%20testing.ipynb#X13sZmlsZQ%3D%3D?line=35'>36</a>\u001b[0m     max_tokens\u001b[39m=\u001b[39mmax_tokens,\n\u001b[0;32m     <a href='vscode-notebook-cell:/c%3A/Users/silvh/OneDrive/lighthouse/portfolio-projects/AI-content/notebooks/2023-11-08%20open%20ai%20api%20testing.ipynb#X13sZmlsZQ%3D%3D?line=36'>37</a>\u001b[0m     temperature\u001b[39m=\u001b[39mtemperature,\n\u001b[0;32m     <a href='vscode-notebook-cell:/c%3A/Users/silvh/OneDrive/lighthouse/portfolio-projects/AI-content/notebooks/2023-11-08%20open%20ai%20api%20testing.ipynb#X13sZmlsZQ%3D%3D?line=37'>38</a>\u001b[0m     n\u001b[39m=\u001b[39m\u001b[39m1\u001b[39m,\n\u001b[0;32m     <a href='vscode-notebook-cell:/c%3A/Users/silvh/OneDrive/lighthouse/portfolio-projects/AI-content/notebooks/2023-11-08%20open%20ai%20api%20testing.ipynb#X13sZmlsZQ%3D%3D?line=38'>39</a>\u001b[0m     frequency_penalty\u001b[39m=\u001b[39m\u001b[39m0\u001b[39m,\n\u001b[0;32m     <a href='vscode-notebook-cell:/c%3A/Users/silvh/OneDrive/lighthouse/portfolio-projects/AI-content/notebooks/2023-11-08%20open%20ai%20api%20testing.ipynb#X13sZmlsZQ%3D%3D?line=39'>40</a>\u001b[0m     presence_penalty\u001b[39m=\u001b[39m\u001b[39m0\u001b[39m\n\u001b[0;32m     <a href='vscode-notebook-cell:/c%3A/Users/silvh/OneDrive/lighthouse/portfolio-projects/AI-content/notebooks/2023-11-08%20open%20ai%20api%20testing.ipynb#X13sZmlsZQ%3D%3D?line=40'>41</a>\u001b[0m )\n\u001b[0;32m     <a href='vscode-notebook-cell:/c%3A/Users/silvh/OneDrive/lighthouse/portfolio-projects/AI-content/notebooks/2023-11-08%20open%20ai%20api%20testing.ipynb#X13sZmlsZQ%3D%3D?line=41'>42</a>\u001b[0m \u001b[39mtry\u001b[39;00m:\n\u001b[0;32m     <a href='vscode-notebook-cell:/c%3A/Users/silvh/OneDrive/lighthouse/portfolio-projects/AI-content/notebooks/2023-11-08%20open%20ai%20api%20testing.ipynb#X13sZmlsZQ%3D%3D?line=42'>43</a>\u001b[0m     \u001b[39mif\u001b[39;00m \u001b[39mlen\u001b[39m(response\u001b[39m.\u001b[39mchoices) \u001b[39m>\u001b[39m \u001b[39m0\u001b[39m:\n",
      "File \u001b[1;32mc:\\Users\\silvh\\.conda\\envs\\projects\\Lib\\site-packages\\openai\\_utils\\_utils.py:299\u001b[0m, in \u001b[0;36mrequired_args.<locals>.inner.<locals>.wrapper\u001b[1;34m(*args, **kwargs)\u001b[0m\n\u001b[0;32m    297\u001b[0m             msg \u001b[39m=\u001b[39m \u001b[39mf\u001b[39m\u001b[39m\"\u001b[39m\u001b[39mMissing required argument: \u001b[39m\u001b[39m{\u001b[39;00mquote(missing[\u001b[39m0\u001b[39m])\u001b[39m}\u001b[39;00m\u001b[39m\"\u001b[39m\n\u001b[0;32m    298\u001b[0m     \u001b[39mraise\u001b[39;00m \u001b[39mTypeError\u001b[39;00m(msg)\n\u001b[1;32m--> 299\u001b[0m \u001b[39mreturn\u001b[39;00m func(\u001b[39m*\u001b[39margs, \u001b[39m*\u001b[39m\u001b[39m*\u001b[39mkwargs)\n",
      "File \u001b[1;32mc:\\Users\\silvh\\.conda\\envs\\projects\\Lib\\site-packages\\openai\\resources\\chat\\completions.py:556\u001b[0m, in \u001b[0;36mCompletions.create\u001b[1;34m(self, messages, model, frequency_penalty, function_call, functions, logit_bias, max_tokens, n, presence_penalty, response_format, seed, stop, stream, temperature, tool_choice, tools, top_p, user, extra_headers, extra_query, extra_body, timeout)\u001b[0m\n\u001b[0;32m    512\u001b[0m \u001b[39m@required_args\u001b[39m([\u001b[39m\"\u001b[39m\u001b[39mmessages\u001b[39m\u001b[39m\"\u001b[39m, \u001b[39m\"\u001b[39m\u001b[39mmodel\u001b[39m\u001b[39m\"\u001b[39m], [\u001b[39m\"\u001b[39m\u001b[39mmessages\u001b[39m\u001b[39m\"\u001b[39m, \u001b[39m\"\u001b[39m\u001b[39mmodel\u001b[39m\u001b[39m\"\u001b[39m, \u001b[39m\"\u001b[39m\u001b[39mstream\u001b[39m\u001b[39m\"\u001b[39m])\n\u001b[0;32m    513\u001b[0m \u001b[39mdef\u001b[39;00m \u001b[39mcreate\u001b[39m(\n\u001b[0;32m    514\u001b[0m     \u001b[39mself\u001b[39m,\n\u001b[1;32m   (...)\u001b[0m\n\u001b[0;32m    554\u001b[0m     timeout: \u001b[39mfloat\u001b[39m \u001b[39m|\u001b[39m httpx\u001b[39m.\u001b[39mTimeout \u001b[39m|\u001b[39m \u001b[39mNone\u001b[39;00m \u001b[39m|\u001b[39m NotGiven \u001b[39m=\u001b[39m NOT_GIVEN,\n\u001b[0;32m    555\u001b[0m ) \u001b[39m-\u001b[39m\u001b[39m>\u001b[39m ChatCompletion \u001b[39m|\u001b[39m Stream[ChatCompletionChunk]:\n\u001b[1;32m--> 556\u001b[0m     \u001b[39mreturn\u001b[39;00m \u001b[39mself\u001b[39m\u001b[39m.\u001b[39m_post(\n\u001b[0;32m    557\u001b[0m         \u001b[39m\"\u001b[39m\u001b[39m/chat/completions\u001b[39m\u001b[39m\"\u001b[39m,\n\u001b[0;32m    558\u001b[0m         body\u001b[39m=\u001b[39mmaybe_transform(\n\u001b[0;32m    559\u001b[0m             {\n\u001b[0;32m    560\u001b[0m                 \u001b[39m\"\u001b[39m\u001b[39mmessages\u001b[39m\u001b[39m\"\u001b[39m: messages,\n\u001b[0;32m    561\u001b[0m                 \u001b[39m\"\u001b[39m\u001b[39mmodel\u001b[39m\u001b[39m\"\u001b[39m: model,\n\u001b[0;32m    562\u001b[0m                 \u001b[39m\"\u001b[39m\u001b[39mfrequency_penalty\u001b[39m\u001b[39m\"\u001b[39m: frequency_penalty,\n\u001b[0;32m    563\u001b[0m                 \u001b[39m\"\u001b[39m\u001b[39mfunction_call\u001b[39m\u001b[39m\"\u001b[39m: function_call,\n\u001b[0;32m    564\u001b[0m                 \u001b[39m\"\u001b[39m\u001b[39mfunctions\u001b[39m\u001b[39m\"\u001b[39m: functions,\n\u001b[0;32m    565\u001b[0m                 \u001b[39m\"\u001b[39m\u001b[39mlogit_bias\u001b[39m\u001b[39m\"\u001b[39m: logit_bias,\n\u001b[0;32m    566\u001b[0m                 \u001b[39m\"\u001b[39m\u001b[39mmax_tokens\u001b[39m\u001b[39m\"\u001b[39m: max_tokens,\n\u001b[0;32m    567\u001b[0m                 \u001b[39m\"\u001b[39m\u001b[39mn\u001b[39m\u001b[39m\"\u001b[39m: n,\n\u001b[0;32m    568\u001b[0m                 \u001b[39m\"\u001b[39m\u001b[39mpresence_penalty\u001b[39m\u001b[39m\"\u001b[39m: presence_penalty,\n\u001b[0;32m    569\u001b[0m                 \u001b[39m\"\u001b[39m\u001b[39mresponse_format\u001b[39m\u001b[39m\"\u001b[39m: response_format,\n\u001b[0;32m    570\u001b[0m                 \u001b[39m\"\u001b[39m\u001b[39mseed\u001b[39m\u001b[39m\"\u001b[39m: seed,\n\u001b[0;32m    571\u001b[0m                 \u001b[39m\"\u001b[39m\u001b[39mstop\u001b[39m\u001b[39m\"\u001b[39m: stop,\n\u001b[0;32m    572\u001b[0m                 \u001b[39m\"\u001b[39m\u001b[39mstream\u001b[39m\u001b[39m\"\u001b[39m: stream,\n\u001b[0;32m    573\u001b[0m                 \u001b[39m\"\u001b[39m\u001b[39mtemperature\u001b[39m\u001b[39m\"\u001b[39m: temperature,\n\u001b[0;32m    574\u001b[0m                 \u001b[39m\"\u001b[39m\u001b[39mtool_choice\u001b[39m\u001b[39m\"\u001b[39m: tool_choice,\n\u001b[0;32m    575\u001b[0m                 \u001b[39m\"\u001b[39m\u001b[39mtools\u001b[39m\u001b[39m\"\u001b[39m: tools,\n\u001b[0;32m    576\u001b[0m                 \u001b[39m\"\u001b[39m\u001b[39mtop_p\u001b[39m\u001b[39m\"\u001b[39m: top_p,\n\u001b[0;32m    577\u001b[0m                 \u001b[39m\"\u001b[39m\u001b[39muser\u001b[39m\u001b[39m\"\u001b[39m: user,\n\u001b[0;32m    578\u001b[0m             },\n\u001b[0;32m    579\u001b[0m             completion_create_params\u001b[39m.\u001b[39mCompletionCreateParams,\n\u001b[0;32m    580\u001b[0m         ),\n\u001b[0;32m    581\u001b[0m         options\u001b[39m=\u001b[39mmake_request_options(\n\u001b[0;32m    582\u001b[0m             extra_headers\u001b[39m=\u001b[39mextra_headers, extra_query\u001b[39m=\u001b[39mextra_query, extra_body\u001b[39m=\u001b[39mextra_body, timeout\u001b[39m=\u001b[39mtimeout\n\u001b[0;32m    583\u001b[0m         ),\n\u001b[0;32m    584\u001b[0m         cast_to\u001b[39m=\u001b[39mChatCompletion,\n\u001b[0;32m    585\u001b[0m         stream\u001b[39m=\u001b[39mstream \u001b[39mor\u001b[39;00m \u001b[39mFalse\u001b[39;00m,\n\u001b[0;32m    586\u001b[0m         stream_cls\u001b[39m=\u001b[39mStream[ChatCompletionChunk],\n\u001b[0;32m    587\u001b[0m     )\n",
      "File \u001b[1;32mc:\\Users\\silvh\\.conda\\envs\\projects\\Lib\\site-packages\\openai\\_base_client.py:1055\u001b[0m, in \u001b[0;36mSyncAPIClient.post\u001b[1;34m(self, path, cast_to, body, options, files, stream, stream_cls)\u001b[0m\n\u001b[0;32m   1041\u001b[0m \u001b[39mdef\u001b[39;00m \u001b[39mpost\u001b[39m(\n\u001b[0;32m   1042\u001b[0m     \u001b[39mself\u001b[39m,\n\u001b[0;32m   1043\u001b[0m     path: \u001b[39mstr\u001b[39m,\n\u001b[1;32m   (...)\u001b[0m\n\u001b[0;32m   1050\u001b[0m     stream_cls: \u001b[39mtype\u001b[39m[_StreamT] \u001b[39m|\u001b[39m \u001b[39mNone\u001b[39;00m \u001b[39m=\u001b[39m \u001b[39mNone\u001b[39;00m,\n\u001b[0;32m   1051\u001b[0m ) \u001b[39m-\u001b[39m\u001b[39m>\u001b[39m ResponseT \u001b[39m|\u001b[39m _StreamT:\n\u001b[0;32m   1052\u001b[0m     opts \u001b[39m=\u001b[39m FinalRequestOptions\u001b[39m.\u001b[39mconstruct(\n\u001b[0;32m   1053\u001b[0m         method\u001b[39m=\u001b[39m\u001b[39m\"\u001b[39m\u001b[39mpost\u001b[39m\u001b[39m\"\u001b[39m, url\u001b[39m=\u001b[39mpath, json_data\u001b[39m=\u001b[39mbody, files\u001b[39m=\u001b[39mto_httpx_files(files), \u001b[39m*\u001b[39m\u001b[39m*\u001b[39moptions\n\u001b[0;32m   1054\u001b[0m     )\n\u001b[1;32m-> 1055\u001b[0m     \u001b[39mreturn\u001b[39;00m cast(ResponseT, \u001b[39mself\u001b[39m\u001b[39m.\u001b[39mrequest(cast_to, opts, stream\u001b[39m=\u001b[39mstream, stream_cls\u001b[39m=\u001b[39mstream_cls))\n",
      "File \u001b[1;32mc:\\Users\\silvh\\.conda\\envs\\projects\\Lib\\site-packages\\openai\\_base_client.py:834\u001b[0m, in \u001b[0;36mSyncAPIClient.request\u001b[1;34m(self, cast_to, options, remaining_retries, stream, stream_cls)\u001b[0m\n\u001b[0;32m    825\u001b[0m \u001b[39mdef\u001b[39;00m \u001b[39mrequest\u001b[39m(\n\u001b[0;32m    826\u001b[0m     \u001b[39mself\u001b[39m,\n\u001b[0;32m    827\u001b[0m     cast_to: Type[ResponseT],\n\u001b[1;32m   (...)\u001b[0m\n\u001b[0;32m    832\u001b[0m     stream_cls: \u001b[39mtype\u001b[39m[_StreamT] \u001b[39m|\u001b[39m \u001b[39mNone\u001b[39;00m \u001b[39m=\u001b[39m \u001b[39mNone\u001b[39;00m,\n\u001b[0;32m    833\u001b[0m ) \u001b[39m-\u001b[39m\u001b[39m>\u001b[39m ResponseT \u001b[39m|\u001b[39m _StreamT:\n\u001b[1;32m--> 834\u001b[0m     \u001b[39mreturn\u001b[39;00m \u001b[39mself\u001b[39m\u001b[39m.\u001b[39m_request(\n\u001b[0;32m    835\u001b[0m         cast_to\u001b[39m=\u001b[39mcast_to,\n\u001b[0;32m    836\u001b[0m         options\u001b[39m=\u001b[39moptions,\n\u001b[0;32m    837\u001b[0m         stream\u001b[39m=\u001b[39mstream,\n\u001b[0;32m    838\u001b[0m         stream_cls\u001b[39m=\u001b[39mstream_cls,\n\u001b[0;32m    839\u001b[0m         remaining_retries\u001b[39m=\u001b[39mremaining_retries,\n\u001b[0;32m    840\u001b[0m     )\n",
      "File \u001b[1;32mc:\\Users\\silvh\\.conda\\envs\\projects\\Lib\\site-packages\\openai\\_base_client.py:877\u001b[0m, in \u001b[0;36mSyncAPIClient._request\u001b[1;34m(self, cast_to, options, remaining_retries, stream, stream_cls)\u001b[0m\n\u001b[0;32m    874\u001b[0m     \u001b[39m# If the response is streamed then we need to explicitly read the response\u001b[39;00m\n\u001b[0;32m    875\u001b[0m     \u001b[39m# to completion before attempting to access the response text.\u001b[39;00m\n\u001b[0;32m    876\u001b[0m     err\u001b[39m.\u001b[39mresponse\u001b[39m.\u001b[39mread()\n\u001b[1;32m--> 877\u001b[0m     \u001b[39mraise\u001b[39;00m \u001b[39mself\u001b[39m\u001b[39m.\u001b[39m_make_status_error_from_response(err\u001b[39m.\u001b[39mresponse) \u001b[39mfrom\u001b[39;00m \u001b[39mNone\u001b[39;00m\n\u001b[0;32m    878\u001b[0m \u001b[39mexcept\u001b[39;00m httpx\u001b[39m.\u001b[39mTimeoutException \u001b[39mas\u001b[39;00m err:\n\u001b[0;32m    879\u001b[0m     \u001b[39mif\u001b[39;00m retries \u001b[39m>\u001b[39m \u001b[39m0\u001b[39m:\n",
      "\u001b[1;31mBadRequestError\u001b[0m: Error code: 400 - {'error': {'message': \"You uploaded an unsupported image. Please make sure your image is below 20 MB in size and is of one the following formats: ['png', 'jpeg', 'gif', 'webp'].\", 'type': 'invalid_request_error', 'param': None, 'code': 'invalid_image_format'}}"
     ]
    }
   ],
   "source": [
    "from  openai import OpenAI\n",
    "import json\n",
    "import IPython\n",
    "from datetime import datetime\n",
    "import sys\n",
    "def generate_completion(\n",
    "    image_url, history, user_input=None, max_tokens=300, temperature=0.0, model=\"gpt-3.5-turbo\"\n",
    "    ):\n",
    "    if user_input == None:\n",
    "        user_input = \"What's in this image?\"\n",
    "    if model == None:\n",
    "        model = 'gpt-3.5-turbo'\n",
    "    vision_models = ['gpt-4-vision-preview']\n",
    "    if model in vision_models:\n",
    "        print('Image input.')\n",
    "        messages = [{\n",
    "            \"role\": \"user\",\n",
    "            \"content\": [{\n",
    "                \"type\": \"text\", \n",
    "                \"text\": user_input\n",
    "            },\n",
    "            {\n",
    "                \"type\": \"image_url\",\n",
    "                \"image_url\": image_url,\n",
    "            }],\n",
    "        }]\n",
    "    else:\n",
    "        messages=[{\n",
    "            \"role\": \"user\",\n",
    "            \"content\": user_input\n",
    "        }]\n",
    "    client = OpenAI()\n",
    "    response = client.chat.completions.create(\n",
    "        model=model,\n",
    "        messages=messages,\n",
    "        max_tokens=max_tokens,\n",
    "        temperature=temperature,\n",
    "        n=1,\n",
    "        frequency_penalty=0,\n",
    "        presence_penalty=0\n",
    "    )\n",
    "    try:\n",
    "        if len(response.choices) > 0:\n",
    "            print('Time completed:', datetime.now())\n",
    "            response_string = response.choices[0].message.content.strip()\n",
    "            try:\n",
    "                history['user_input'].append(user_input)\n",
    "                history['response_text'].append(response_string)\n",
    "                history['response'].append(response)\n",
    "                history['response_MD'].append(IPython.display.Markdown(response_string))\n",
    "            except:\n",
    "                history['user_input'] = [user_input]\n",
    "                history['response_text'] = [response_string]\n",
    "                history['response'] = [response]\n",
    "                history['response_MD'] = [IPython.display.Markdown(response_string)]\n",
    "            return history\n",
    "    except Exception as error:\n",
    "        exc_type, exc_obj, tb = sys.exc_info()\n",
    "        f = tb.tb_frame\n",
    "        lineno = tb.tb_lineno\n",
    "        filename = f.f_code.co_filename\n",
    "        print(\"An error occurred on line\", lineno, \"in\", filename, \":\", error)\n",
    "        return response\n",
    "    else:\n",
    "        return response\n",
    "\n",
    "image_url = 'https://1drv.ms/i/s!ApTIpYMcXzSTguIs6Y8VrhdqH-wnwA?e=4EotGX'\n",
    "# user_input = \"what is today's date?\"\n",
    "user_input = \"What's in this image?\"\n",
    "model = 'gpt-4-vision-preview'\n",
    "# model = None\n",
    "history = generate_completion(image_url, history_dict, user_input=user_input, model=model)\n",
    "\n"
   ]
  },
  {
   "cell_type": "markdown",
   "metadata": {},
   "source": [
    "### 1.51"
   ]
  },
  {
   "cell_type": "code",
   "execution_count": 19,
   "metadata": {},
   "outputs": [
    {
     "name": "stdout",
     "output_type": "stream",
     "text": [
      "Image input.\n",
      "Time completed: 2023-11-08 05:40:12.023990\n"
     ]
    }
   ],
   "source": [
    "from  openai import OpenAI\n",
    "import json\n",
    "import IPython\n",
    "from datetime import datetime\n",
    "import sys\n",
    "def generate_completion(\n",
    "    image_url, history, user_input=None, max_tokens=300, temperature=0.0, model=\"gpt-3.5-turbo\"\n",
    "    ):\n",
    "    if user_input == None:\n",
    "        user_input = \"What's in this image?\"\n",
    "    if model == None:\n",
    "        model = 'gpt-3.5-turbo'\n",
    "    vision_models = ['gpt-4-vision-preview']\n",
    "    if model in vision_models:\n",
    "        print('Image input.')\n",
    "        messages = [{\n",
    "            \"role\": \"user\",\n",
    "            \"content\": [{\n",
    "                \"type\": \"text\", \n",
    "                \"text\": user_input\n",
    "            },\n",
    "            {\n",
    "                \"type\": \"image_url\",\n",
    "                \"image_url\": image_url,\n",
    "            }],\n",
    "        }]\n",
    "    else:\n",
    "        messages=[{\n",
    "            \"role\": \"user\",\n",
    "            \"content\": user_input\n",
    "        }]\n",
    "    client = OpenAI()\n",
    "    response = client.chat.completions.create(\n",
    "        model=model,\n",
    "        messages=messages,\n",
    "        max_tokens=max_tokens,\n",
    "        temperature=temperature,\n",
    "        n=1,\n",
    "        frequency_penalty=0,\n",
    "        presence_penalty=0\n",
    "    )\n",
    "    try:\n",
    "        if len(response.choices) > 0:\n",
    "            print('Time completed:', datetime.now())\n",
    "            response_string = response.choices[0].message.content.strip()\n",
    "            try:\n",
    "                history['user_input'].append(user_input)\n",
    "                history['response_text'].append(response_string)\n",
    "                history['response'].append(response)\n",
    "                history['response_MD'].append(IPython.display.Markdown(response_string))\n",
    "            except:\n",
    "                history['user_input'] = [user_input]\n",
    "                history['response_text'] = [response_string]\n",
    "                history['response'] = [response]\n",
    "                history['response_MD'] = [IPython.display.Markdown(response_string)]\n",
    "            return history\n",
    "    except Exception as error:\n",
    "        exc_type, exc_obj, tb = sys.exc_info()\n",
    "        f = tb.tb_frame\n",
    "        lineno = tb.tb_lineno\n",
    "        filename = f.f_code.co_filename\n",
    "        print(\"An error occurred on line\", lineno, \"in\", filename, \":\", error)\n",
    "        return response\n",
    "    else:\n",
    "        return response\n",
    "\n",
    "image_url = 'https://defytimefitness.com/wp-content/uploads/2020/05/IMG_2161-scaled.jpg'\n",
    "# user_input = \"what is today's date?\"\n",
    "user_input = \"What's in this image?\"\n",
    "model = 'gpt-4-vision-preview'\n",
    "# model = None\n",
    "history = generate_completion(image_url, history_dict, user_input=user_input, model=model)\n",
    "\n"
   ]
  },
  {
   "cell_type": "code",
   "execution_count": 22,
   "metadata": {},
   "outputs": [
    {
     "data": {
      "text/markdown": [
       "The image shows a person in an office setting. The person appears to be doing a lunge exercise, dressed in athletic attire, which includes a tank top, athletic pants, and running shoes. The office has a wooden floor and is furnished with a desk that has a computer setup, including an iMac, a keyboard, and a mouse. There's also a projector on the desk, a printer on a small table, a whiteboard with some writing and magnets on the wall, and a bookshelf filled with books. A map is hanging on the wall, and there are various other items around the room that suggest it is a working space, possibly in an academic or professional environment."
      ],
      "text/plain": [
       "<IPython.core.display.Markdown object>"
      ]
     },
     "execution_count": 22,
     "metadata": {},
     "output_type": "execute_result"
    }
   ],
   "source": [
    "history['response_MD'][0]"
   ]
  },
  {
   "cell_type": "markdown",
   "metadata": {},
   "source": []
  },
  {
   "cell_type": "code",
   "execution_count": null,
   "metadata": {},
   "outputs": [],
   "source": []
  },
  {
   "cell_type": "code",
   "execution_count": null,
   "metadata": {},
   "outputs": [],
   "source": []
  },
  {
   "cell_type": "code",
   "execution_count": null,
   "metadata": {},
   "outputs": [],
   "source": []
  },
  {
   "cell_type": "code",
   "execution_count": null,
   "metadata": {},
   "outputs": [],
   "source": []
  },
  {
   "cell_type": "code",
   "execution_count": null,
   "metadata": {},
   "outputs": [],
   "source": []
  },
  {
   "cell_type": "code",
   "execution_count": null,
   "metadata": {},
   "outputs": [],
   "source": []
  },
  {
   "cell_type": "code",
   "execution_count": null,
   "metadata": {},
   "outputs": [],
   "source": []
  },
  {
   "cell_type": "code",
   "execution_count": null,
   "metadata": {},
   "outputs": [],
   "source": []
  },
  {
   "cell_type": "markdown",
   "metadata": {},
   "source": [
    "# *End of Page*"
   ]
  }
 ],
 "metadata": {
  "kernelspec": {
   "display_name": "Python 3.9.13 64-bit",
   "language": "python",
   "name": "python3"
  },
  "language_info": {
   "codemirror_mode": {
    "name": "ipython",
    "version": 3
   },
   "file_extension": ".py",
   "mimetype": "text/x-python",
   "name": "python",
   "nbconvert_exporter": "python",
   "pygments_lexer": "ipython3",
   "version": "3.11.4"
  },
  "orig_nbformat": 4,
  "vscode": {
   "interpreter": {
    "hash": "11938c6bc6919ae2720b4d5011047913343b08a43b18698fd82dedb0d4417594"
   }
  }
 },
 "nbformat": 4,
 "nbformat_minor": 2
}
