{
 "cells": [
  {
   "attachments": {},
   "cell_type": "markdown",
   "metadata": {},
   "source": [
    "# Title\n",
    "[]()"
   ]
  },
  {
   "cell_type": "code",
   "execution_count": 1,
   "metadata": {},
   "outputs": [],
   "source": [
    "\n",
    "import sys\n",
    "sys.path.append(r\"C:\\Users\\silvh\\OneDrive\\lighthouse\\custom_python\")\n",
    "sys.path.append(r'C:\\Users\\silvh\\OneDrive\\lighthouse\\portfolio-projects\\AI-content\\src')\n",
    "# sys.path.append(r'C:\\Users\\silvh\\OneDrive\\lighthouse\\portfolio-projects\\GHL-chat\\src\\app')\n",
    "from silvhua import *\n",
    "\n",
    "# from datetime import datetime\n",
    "# sys.path.append(r\"C:\\Users\\silvh\\OneDrive\\lighthouse\\portfolio-projects\\online-PT-social-media-NLP\\src\")"
   ]
  },
  {
   "cell_type": "markdown",
   "metadata": {},
   "source": [
    "# initialize dictionaries"
   ]
  },
  {
   "cell_type": "code",
   "execution_count": 2,
   "metadata": {},
   "outputs": [],
   "source": [
    "response = dict()\n",
    "history_dict = dict()"
   ]
  },
  {
   "cell_type": "markdown",
   "metadata": {},
   "source": [
    "# Available models"
   ]
  },
  {
   "cell_type": "markdown",
   "metadata": {},
   "source": [
    "## `Silvia Hua` organization"
   ]
  },
  {
   "cell_type": "code",
   "execution_count": 2,
   "metadata": {},
   "outputs": [
    {
     "name": "stdout",
     "output_type": "stream",
     "text": [
      "gpt-3.5-turbo-0125\n",
      "gpt-3.5-turbo-16k-0613\n",
      "gpt-3.5-turbo-16k\n",
      "gpt-3.5-turbo\n",
      "gpt-3.5-turbo-0613\n",
      "gpt-3.5-turbo-1106\n",
      "gpt-3.5-turbo-0301\n",
      "gpt-3.5-turbo-instruct\n",
      "gpt-3.5-turbo-instruct-0914\n"
     ]
    },
    {
     "data": {
      "text/plain": [
       "[Model(id='gpt-3.5-turbo-0125', created=1706048358, object='model', owned_by='system'),\n",
       " Model(id='gpt-3.5-turbo-16k-0613', created=1685474247, object='model', owned_by='openai'),\n",
       " Model(id='gpt-3.5-turbo-16k', created=1683758102, object='model', owned_by='openai-internal'),\n",
       " Model(id='gpt-3.5-turbo', created=1677610602, object='model', owned_by='openai'),\n",
       " Model(id='gpt-3.5-turbo-0613', created=1686587434, object='model', owned_by='openai'),\n",
       " Model(id='gpt-3.5-turbo-1106', created=1698959748, object='model', owned_by='system'),\n",
       " Model(id='gpt-3.5-turbo-0301', created=1677649963, object='model', owned_by='openai'),\n",
       " Model(id='gpt-3.5-turbo-instruct', created=1692901427, object='model', owned_by='system'),\n",
       " Model(id='gpt-3.5-turbo-instruct-0914', created=1694122472, object='model', owned_by='system')]"
      ]
     },
     "execution_count": 2,
     "metadata": {},
     "output_type": "execute_result"
    }
   ],
   "source": [
    "models = openai_models()\n",
    "models"
   ]
  },
  {
   "cell_type": "markdown",
   "metadata": {},
   "source": [
    "## `Projects` organization"
   ]
  },
  {
   "cell_type": "code",
   "execution_count": 4,
   "metadata": {},
   "outputs": [
    {
     "name": "stdout",
     "output_type": "stream",
     "text": [
      "gpt-3.5-turbo-0125\n",
      "gpt-3.5-turbo-16k-0613\n",
      "gpt-3.5-turbo-16k\n",
      "gpt-3.5-turbo\n",
      "gpt-4\n",
      "gpt-4-0613\n",
      "gpt-4-vision-preview\n",
      "gpt-3.5-turbo-0613\n",
      "gpt-3.5-turbo-1106\n",
      "gpt-4-0125-preview\n",
      "gpt-4-turbo-preview\n",
      "gpt-3.5-turbo-0301\n",
      "gpt-3.5-turbo-instruct\n",
      "gpt-4-1106-preview\n",
      "gpt-3.5-turbo-instruct-0914\n"
     ]
    },
    {
     "data": {
      "text/plain": [
       "[Model(id='gpt-3.5-turbo-0125', created=1706048358, object='model', owned_by='system'),\n",
       " Model(id='gpt-3.5-turbo-16k-0613', created=1685474247, object='model', owned_by='openai'),\n",
       " Model(id='gpt-3.5-turbo-16k', created=1683758102, object='model', owned_by='openai-internal'),\n",
       " Model(id='gpt-3.5-turbo', created=1677610602, object='model', owned_by='openai'),\n",
       " Model(id='gpt-4', created=1687882411, object='model', owned_by='openai'),\n",
       " Model(id='gpt-4-0613', created=1686588896, object='model', owned_by='openai'),\n",
       " Model(id='gpt-4-vision-preview', created=1698894917, object='model', owned_by='system'),\n",
       " Model(id='gpt-3.5-turbo-0613', created=1686587434, object='model', owned_by='openai'),\n",
       " Model(id='gpt-3.5-turbo-1106', created=1698959748, object='model', owned_by='system'),\n",
       " Model(id='gpt-4-0125-preview', created=1706037612, object='model', owned_by='system'),\n",
       " Model(id='gpt-4-turbo-preview', created=1706037777, object='model', owned_by='system'),\n",
       " Model(id='gpt-3.5-turbo-0301', created=1677649963, object='model', owned_by='openai'),\n",
       " Model(id='gpt-3.5-turbo-instruct', created=1692901427, object='model', owned_by='system'),\n",
       " Model(id='gpt-4-1106-preview', created=1698957206, object='model', owned_by='system'),\n",
       " Model(id='gpt-3.5-turbo-instruct-0914', created=1694122472, object='model', owned_by='system')]"
      ]
     },
     "execution_count": 4,
     "metadata": {},
     "output_type": "execute_result"
    }
   ],
   "source": [
    "models = openai_models()\n",
    "models"
   ]
  },
  {
   "cell_type": "markdown",
   "metadata": {},
   "source": [
    "# DALL E Vision Iteration 1"
   ]
  },
  {
   "cell_type": "code",
   "execution_count": 6,
   "metadata": {},
   "outputs": [
    {
     "name": "stdout",
     "output_type": "stream",
     "text": [
      "Image input.\n",
      "Sending request to Open AI...\n",
      "Request completed.\n",
      "Time completed: 2024-02-06 15:23:53.415442\n"
     ]
    },
    {
     "data": {
      "text/plain": [
       "'messages'"
      ]
     },
     "metadata": {},
     "output_type": "display_data"
    },
    {
     "name": "stdout",
     "output_type": "stream",
     "text": [
      "\n"
     ]
    },
    {
     "data": {
      "text/plain": [
       "'response_MD'"
      ]
     },
     "metadata": {},
     "output_type": "display_data"
    },
    {
     "name": "stdout",
     "output_type": "stream",
     "text": [
      "\n"
     ]
    }
   ],
   "source": [
    "from gpt_vision import *\n",
    "\n",
    "model = 'gpt-4-vision-preview'\n",
    "image_url = 'https://miro.medium.com/v2/resize:fit:1100/format:webp/1*K2x_m7a-rToMHEw3WSFYrw.png'\n",
    "user_input = \"\"\"\n",
    "Evaluate the push up form.\n",
    "\"\"\"\n",
    "iteration = 1\n",
    "response[iteration] = generate_completion(\n",
    "    image_url, history_dict, user_input=user_input, model=model, n_choices=2)\n",
    "\n"
   ]
  },
  {
   "cell_type": "code",
   "execution_count": 14,
   "metadata": {},
   "outputs": [
    {
     "data": {
      "text/markdown": [
       "I can provide some pointers on push-up form based on the image:\n",
       "\n",
       "1. Body Alignment: The person's body is nearly in a straight line from head to heels, which is generally good for maintaining proper form. However, it's important that the hips do not sag or pike up too much, as this can put unnecessary strain on the lower back and alter the mechanics of the push-up.\n",
       "\n",
       "2. Elbow Position: The elbows appear to be flaring out to the sides. For a standard push-up, it's often recommended to keep the elbows closer to the body at about a 45-degree angle from the torso. This can help reduce stress on the shoulder joints and better target the chest, shoulders, and triceps.\n",
       "\n",
       "3. Hand Placement: The person's hands are positioned in line with their shoulders, which is good. The hands should be flat on the floor, and fingers spread to distribute weight evenly.\n",
       "\n",
       "4. Depth: The individual is going deep into the push-up, bringing the chest close to the floor. This is beneficial for maximizing the range of motion and engaging the chest muscles more effectively.\n",
       "\n",
       "5. Head Position: The head position is neutral, in line with the spine, which is correct. It's important not to let the head droop down or crane the neck upwards during the movement.\n",
       "\n",
       "6. Core Engagement: It's not visible from this angle, but the core should be engaged to maintain proper body alignment throughout the exercise.\n",
       "\n",
       "Remember, it's important to"
      ],
      "text/plain": [
       "<IPython.core.display.Markdown object>"
      ]
     },
     "metadata": {},
     "output_type": "display_data"
    },
    {
     "name": "stdout",
     "output_type": "stream",
     "text": [
      "\n"
     ]
    },
    {
     "data": {
      "text/markdown": [
       "In evaluating the push-up form shown in the image, there are a few key points to consider:\n",
       "\n",
       "1. Body Position: Ideally, the body should form a straight line from the head to the heels during a push-up. In the image, the person's hips appear to be slightly sagging towards the floor, which could indicate a need for stronger core engagement to maintain proper alignment.\n",
       "\n",
       "2. Hand Placement: The hands seem to be placed directly under the shoulders, which is generally recommended for a standard push-up. However, the exact optimal hand placement can vary depending on individual body mechanics and the specific muscles one aims to target.\n",
       "\n",
       "3. Elbow Position: The elbows are close to the body, which can be beneficial for engaging the triceps and reducing strain on the shoulder joint. This contrasts with a wider elbow placement, which emphasizes the chest muscles more.\n",
       "\n",
       "4. Depth of Movement: The person has lowered their body close to the floor, which is good for maximizing the range of motion in the push-up. Achieving a full range of motion can help work the muscles more effectively.\n",
       "\n",
       "5. Head and Neck Alignment: It's difficult to see the alignment of the head and neck from this angle, but ideally, the neck should be neutral, with the gaze directed slightly ahead rather than straight down to maintain spinal alignment.\n",
       "\n",
       "Overall, the push-up form looks decent with a few areas that could potentially be improved, such as ensuring the hips and back are in a straight line to engage the core muscles"
      ],
      "text/plain": [
       "<IPython.core.display.Markdown object>"
      ]
     },
     "metadata": {},
     "output_type": "display_data"
    },
    {
     "name": "stdout",
     "output_type": "stream",
     "text": [
      "\n"
     ]
    }
   ],
   "source": [
    "for response in history_dict['response_MD'][0]:\n",
    "    display(response)\n",
    "    print('')"
   ]
  },
  {
   "cell_type": "markdown",
   "metadata": {},
   "source": [
    "# Stability AI"
   ]
  },
  {
   "cell_type": "code",
   "execution_count": 3,
   "metadata": {},
   "outputs": [],
   "source": [
    "from my_stableai import *"
   ]
  },
  {
   "cell_type": "code",
   "execution_count": 4,
   "metadata": {},
   "outputs": [
    {
     "name": "stdout",
     "output_type": "stream",
     "text": [
      "Image saved as ../ai_images//stable-diffusion-v1-6_2024-02-27_1317_0.png\n",
      "Image saved as ../ai_images//stable-diffusion-v1-6_2024-02-27_1317_1.png\n"
     ]
    }
   ],
   "source": [
    "prompt = \"\"\"\n",
    "Air Canada taken to court\n",
    "\"\"\"\n",
    "iteration = 1\n",
    "response[iteration] = generate_stability_image(prompt, n_images=2)"
   ]
  },
  {
   "cell_type": "code",
   "execution_count": 5,
   "metadata": {},
   "outputs": [
    {
     "name": "stdout",
     "output_type": "stream",
     "text": [
      "\n",
      "After being taken to court for a chatbot error, Air Canada tried to claim that its customer service chatbot is “a separate legal entity that is responsible for its own actions.” Unsurprisingly, the courts did not agree and Air Canada had to pay up.\n",
      "\n",
      "Let this be a lesson for companies and developers to ensure their generative AI products are safe before release. Generative AI is all the rage, but if you don’t have the resources to ensure AI safety, best to stick with tried-and-true options.\n",
      "\n",
      "\n",
      "\n",
      "\n",
      "\n",
      "PS: The image was generated by Stable Diffusion v1.6 using the following prompt: \"Air Canada taken to court\".\n",
      "\n",
      "\n",
      "#datascience #llm \n"
     ]
    }
   ],
   "source": [
    "\n",
    "post = \"\"\"\n",
    "After being taken to court for a chatbot error, Air Canada tried to claim that its customer service chatbot is “a separate legal entity that is responsible for its own actions.” Unsurprisingly, the courts did not agree and Air Canada had to pay up.\n",
    "\n",
    "Let this be a lesson for companies and developers to ensure their generative AI products are safe before release. Generative AI is all the rage, but if you don’t have the resources to ensure AI safety, best to stick with tried-and-true options.\n",
    "\"\"\"\n",
    "create_linkedin_post_stableai(post, prompt)"
   ]
  },
  {
   "cell_type": "code",
   "execution_count": null,
   "metadata": {},
   "outputs": [],
   "source": []
  },
  {
   "cell_type": "code",
   "execution_count": null,
   "metadata": {},
   "outputs": [],
   "source": []
  },
  {
   "cell_type": "code",
   "execution_count": null,
   "metadata": {},
   "outputs": [],
   "source": []
  },
  {
   "cell_type": "code",
   "execution_count": null,
   "metadata": {},
   "outputs": [],
   "source": []
  },
  {
   "cell_type": "code",
   "execution_count": null,
   "metadata": {},
   "outputs": [],
   "source": []
  },
  {
   "cell_type": "code",
   "execution_count": null,
   "metadata": {},
   "outputs": [],
   "source": []
  },
  {
   "cell_type": "code",
   "execution_count": null,
   "metadata": {},
   "outputs": [],
   "source": []
  },
  {
   "cell_type": "code",
   "execution_count": null,
   "metadata": {},
   "outputs": [],
   "source": []
  },
  {
   "cell_type": "code",
   "execution_count": null,
   "metadata": {},
   "outputs": [],
   "source": []
  },
  {
   "cell_type": "code",
   "execution_count": null,
   "metadata": {},
   "outputs": [],
   "source": []
  },
  {
   "cell_type": "code",
   "execution_count": null,
   "metadata": {},
   "outputs": [],
   "source": []
  },
  {
   "cell_type": "code",
   "execution_count": null,
   "metadata": {},
   "outputs": [],
   "source": []
  },
  {
   "attachments": {},
   "cell_type": "markdown",
   "metadata": {},
   "source": [
    "# *End of Page*"
   ]
  }
 ],
 "metadata": {
  "kernelspec": {
   "display_name": "Python 3.9.13 64-bit",
   "language": "python",
   "name": "python3"
  },
  "language_info": {
   "codemirror_mode": {
    "name": "ipython",
    "version": 3
   },
   "file_extension": ".py",
   "mimetype": "text/x-python",
   "name": "python",
   "nbconvert_exporter": "python",
   "pygments_lexer": "ipython3",
   "version": "3.11.7"
  },
  "orig_nbformat": 4,
  "vscode": {
   "interpreter": {
    "hash": "11938c6bc6919ae2720b4d5011047913343b08a43b18698fd82dedb0d4417594"
   }
  }
 },
 "nbformat": 4,
 "nbformat_minor": 2
}
